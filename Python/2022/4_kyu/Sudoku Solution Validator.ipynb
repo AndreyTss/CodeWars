{
 "cells": [
  {
   "cell_type": "markdown",
   "id": "88b02dd1",
   "metadata": {},
   "source": [
    "## Sudoku Solution Validator\n",
    "###### `ALGORITHMS` `DATA STRUCTURES` `VALIDATION`"
   ]
  },
  {
   "cell_type": "markdown",
   "id": "96cb46ac",
   "metadata": {},
   "source": [
    "### Sudoku Background\n",
    "Sudoku is a game played on a 9x9 grid. The goal of the game is to fill all cells of the grid with digits from 1 to 9, so that each column, each row, and each of the nine 3x3 sub-grids (also known as blocks) contain all of the digits from 1 to 9.\n",
    "(More info at: http://en.wikipedia.org/wiki/Sudoku)\n",
    "\n",
    "### Sudoku Solution Validator\n",
    "Write a function `validSolution`/`ValidateSolution`/`valid_solution()` that accepts a 2D array representing a Sudoku board, and returns true if it is a valid solution, or false otherwise. The cells of the sudoku board may also contain 0's, which will represent empty cells. Boards containing one or more zeroes are considered to be invalid solutions.\n",
    "\n",
    "The board is always 9 cells by 9 cells, and every cell only contains integers from 0 to 9."
   ]
  },
  {
   "cell_type": "markdown",
   "id": "13519658",
   "metadata": {},
   "source": [
    "### Examples"
   ]
  },
  {
   "cell_type": "code",
   "execution_count": null,
   "id": "865beeaf",
   "metadata": {},
   "outputs": [],
   "source": [
    "validSolution([\n",
    "  [5, 3, 4, 6, 7, 8, 9, 1, 2],\n",
    "  [6, 7, 2, 1, 9, 5, 3, 4, 8],\n",
    "  [1, 9, 8, 3, 4, 2, 5, 6, 7],\n",
    "  [8, 5, 9, 7, 6, 1, 4, 2, 3],\n",
    "  [4, 2, 6, 8, 5, 3, 7, 9, 1],\n",
    "  [7, 1, 3, 9, 2, 4, 8, 5, 6],\n",
    "  [9, 6, 1, 5, 3, 7, 2, 8, 4],\n",
    "  [2, 8, 7, 4, 1, 9, 6, 3, 5],\n",
    "  [3, 4, 5, 2, 8, 6, 1, 7, 9]\n",
    "]); // => true"
   ]
  },
  {
   "cell_type": "code",
   "execution_count": null,
   "id": "3fc2ddd8",
   "metadata": {},
   "outputs": [],
   "source": [
    "validSolution([\n",
    "  [5, 3, 4, 6, 7, 8, 9, 1, 2], \n",
    "  [6, 7, 2, 1, 9, 0, 3, 4, 8],\n",
    "  [1, 0, 0, 3, 4, 2, 5, 6, 0],\n",
    "  [8, 5, 9, 7, 6, 1, 0, 2, 0],\n",
    "  [4, 2, 6, 8, 5, 3, 7, 9, 1],\n",
    "  [7, 1, 3, 9, 2, 4, 8, 5, 6],\n",
    "  [9, 0, 1, 5, 3, 7, 2, 1, 4],\n",
    "  [2, 8, 7, 4, 1, 9, 6, 3, 5],\n",
    "  [3, 0, 0, 4, 8, 1, 1, 7, 9]\n",
    "]); // => false"
   ]
  },
  {
   "cell_type": "markdown",
   "id": "f1c439f9",
   "metadata": {},
   "source": [
    "### My solution"
   ]
  },
  {
   "cell_type": "code",
   "execution_count": 7,
   "id": "8ebdb4b4",
   "metadata": {},
   "outputs": [],
   "source": [
    "def valid_solution(board):\n",
    "    \n",
    "    right = [1, 2, 3, 4, 5, 6, 7, 8, 9]\n",
    "    \n",
    "    for i in range(len(board)):\n",
    "        if sorted(board[i]) == right:\n",
    "            col = []\n",
    "            for j in range(len(board)):\n",
    "                col.append(board[j][i])\n",
    "        else: \n",
    "            return False\n",
    "    \n",
    "    if sorted(col) == right:\n",
    "        pos = []\n",
    "        sq = []\n",
    "        for i in range(0, len(board), 3):\n",
    "            for j in range(0, len(board), 3):\n",
    "                for m in range(i, i + 3, 1):\n",
    "                    for k in range(j, j + 3, 1):\n",
    "                        pos.append(board[m][k])\n",
    "        s = 0\n",
    "        for i in range(len(pos)):\n",
    "            sq.append(pos[i])\n",
    "            if (i + 1) % 9 == 0:\n",
    "                if sorted(sq) == right:\n",
    "                    s += 1\n",
    "                sq = []\n",
    "        return s == 9 \n",
    "    else:\n",
    "        return False"
   ]
  },
  {
   "cell_type": "markdown",
   "id": "def67bde",
   "metadata": {},
   "source": [
    "### Sample Tests"
   ]
  },
  {
   "cell_type": "code",
   "execution_count": null,
   "id": "32cb8727",
   "metadata": {},
   "outputs": [],
   "source": [
    "try:\n",
    "    valid_solution = validSolution\n",
    "except NameError:\n",
    "    pass\n",
    "\n",
    "test.assert_equals(valid_solution([[5, 3, 4, 6, 7, 8, 9, 1, 2], \n",
    "                                   [6, 7, 2, 1, 9, 5, 3, 4, 8],\n",
    "                                   [1, 9, 8, 3, 4, 2, 5, 6, 7],\n",
    "                                   [8, 5, 9, 7, 6, 1, 4, 2, 3],\n",
    "                                   [4, 2, 6, 8, 5, 3, 7, 9, 1],\n",
    "                                   [7, 1, 3, 9, 2, 4, 8, 5, 6],\n",
    "                                   [9, 6, 1, 5, 3, 7, 2, 8, 4],\n",
    "                                   [2, 8, 7, 4, 1, 9, 6, 3, 5],\n",
    "                                   [3, 4, 5, 2, 8, 6, 1, 7, 9]]), True);\n",
    "\n",
    "test.assert_equals(valid_solution([[5, 3, 4, 6, 7, 8, 9, 1, 2], \n",
    "                                   [6, 7, 2, 1, 9, 0, 3, 4, 9],\n",
    "                                   [1, 0, 0, 3, 4, 2, 5, 6, 0],\n",
    "                                   [8, 5, 9, 7, 6, 1, 0, 2, 0],\n",
    "                                   [4, 2, 6, 8, 5, 3, 7, 9, 1],\n",
    "                                   [7, 1, 3, 9, 2, 4, 8, 5, 6],\n",
    "                                   [9, 0, 1, 5, 3, 7, 2, 1, 4],\n",
    "                                   [2, 8, 7, 4, 1, 9, 6, 3, 5],\n",
    "                                   [3, 0, 0, 4, 8, 1, 1, 7, 9]]), False);"
   ]
  }
 ],
 "metadata": {
  "kernelspec": {
   "display_name": "Python 3 (ipykernel)",
   "language": "python",
   "name": "python3"
  },
  "language_info": {
   "codemirror_mode": {
    "name": "ipython",
    "version": 3
   },
   "file_extension": ".py",
   "mimetype": "text/x-python",
   "name": "python",
   "nbconvert_exporter": "python",
   "pygments_lexer": "ipython3",
   "version": "3.9.7"
  }
 },
 "nbformat": 4,
 "nbformat_minor": 5
}
