{
 "cells": [
  {
   "cell_type": "markdown",
   "id": "88b02dd1",
   "metadata": {},
   "source": [
    "## parseInt() reloaded\n",
    "###### `ALGORITHMS` `NUMBERS` `INTEGERS` `PARSING` `STRINGS`"
   ]
  },
  {
   "cell_type": "markdown",
   "id": "96cb46ac",
   "metadata": {},
   "source": [
    "In this kata we want to convert a string into an integer. The strings simply represent the numbers in words."
   ]
  },
  {
   "cell_type": "markdown",
   "id": "13519658",
   "metadata": {},
   "source": [
    "### Examples\n",
    "\n",
    "+ \"one\" => 1\n",
    "+ \"twenty\" => 20\n",
    "+ \"two hundred forty-six\" => 246\n",
    "+ \"seven hundred eighty-three thousand nine hundred and nineteen\" => 783919"
   ]
  },
  {
   "cell_type": "markdown",
   "id": "1d84881f",
   "metadata": {},
   "source": [
    "### Notes\n",
    "\n",
    "+ The minimum number is \"zero\" (inclusively)\n",
    "+ The maximum number, which must be supported is 1 million (inclusively)\n",
    "+ The \"and\" in e.g. \"one hundred and twenty-four\" is optional, in some cases it's present and in others it's not\n",
    "+ All tested numbers are valid, you don't need to validate them"
   ]
  },
  {
   "cell_type": "markdown",
   "id": "f1c439f9",
   "metadata": {},
   "source": [
    "### My solution"
   ]
  },
  {
   "cell_type": "code",
   "execution_count": 7,
   "id": "8ebdb4b4",
   "metadata": {},
   "outputs": [],
   "source": [
    "def parse_int(string):\n",
    "    dict = {\n",
    "        'one': 1, 'two': 2, 'three': 3, 'four': 4, 'five': 5,\n",
    "        'six': 6, 'seven': 7, 'eight': 8, 'nine': 9, 'ten': 10,\n",
    "        'eleven': 11, 'twelve': 12, 'thirteen': 13, 'fourteen': 14, 'fifteen': 15,\n",
    "        'sixteen': 16, 'seventeen': 17, 'eighteen': 18, 'nineteen': 19,\n",
    "        'twenty': 20, 'thirty': 30, 'forty': 40, 'fifty': 50,\n",
    "        'sixty': 60, 'seventy': 70, 'eighty': 80, 'ninety': 90,\n",
    "        'hundred': 100, 'thousand': 1000, 'million': 1000000\n",
    "    }\n",
    "    \n",
    "    result = 0\n",
    "    temp = []\n",
    "\n",
    "    for s in string.split('thousand'):\n",
    "        sum = 0\n",
    "        for i in s.strip().split():\n",
    "            if i.find('-') != -1:\n",
    "                for j in i.split('-'):\n",
    "                    if j in dict:\n",
    "                        sum += dict.get(j)\n",
    "            else:\n",
    "                if i in dict:\n",
    "                    if i == 'hundred':\n",
    "                        sum *= dict.get(i)\n",
    "                    elif i == 'million':\n",
    "                        sum *= dict.get(i)\n",
    "                    else:\n",
    "                        sum += dict.get(i)\n",
    "        temp.append(sum)\n",
    "\n",
    "    if len(temp) > 1:\n",
    "        result = temp[0] * 1000 + temp[1]\n",
    "    elif len(temp) == 1:\n",
    "        result = temp[0]\n",
    "\n",
    "    return result      "
   ]
  },
  {
   "cell_type": "markdown",
   "id": "def67bde",
   "metadata": {},
   "source": [
    "### Sample Tests"
   ]
  },
  {
   "cell_type": "code",
   "execution_count": null,
   "id": "32cb8727",
   "metadata": {},
   "outputs": [],
   "source": [
    "test.assert_equals(parse_int('one'), 1)\n",
    "test.assert_equals(parse_int('twenty'), 20)\n",
    "test.assert_equals(parse_int('two hundred forty-six'), 246)"
   ]
  }
 ],
 "metadata": {
  "kernelspec": {
   "display_name": "Python 3 (ipykernel)",
   "language": "python",
   "name": "python3"
  },
  "language_info": {
   "codemirror_mode": {
    "name": "ipython",
    "version": 3
   },
   "file_extension": ".py",
   "mimetype": "text/x-python",
   "name": "python",
   "nbconvert_exporter": "python",
   "pygments_lexer": "ipython3",
   "version": "3.9.7"
  }
 },
 "nbformat": 4,
 "nbformat_minor": 5
}
