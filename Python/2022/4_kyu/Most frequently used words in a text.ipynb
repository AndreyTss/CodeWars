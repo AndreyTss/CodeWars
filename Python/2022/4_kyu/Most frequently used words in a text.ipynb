{
 "cells": [
  {
   "cell_type": "markdown",
   "id": "88b02dd1",
   "metadata": {},
   "source": [
    "## Most frequently used words in a text\n",
    "###### `ALGORITHMS` `STRINGS` ` PARSING` `RANKING` `FILTERING`"
   ]
  },
  {
   "cell_type": "markdown",
   "id": "96cb46ac",
   "metadata": {},
   "source": [
    "Write a function that, given a string of text (possibly with punctuation and line-breaks), returns an array of the top-3 most occurring words, in descending order of the number of occurrences.\n",
    "\n",
    "### Assumptions:\n",
    "+ A word is a string of letters (A to Z) optionally containing one or more apostrophes (`'`) in ASCII.\n",
    "+ Apostrophes can appear at the start, middle or end of a word (`'abc`, `abc'`, `'abc'`, `ab'c` are all valid)\n",
    "+ Any other characters (e.g. `#`, `\\`, `/` , `.` ...) are not part of a word and should be treated as whitespace.\n",
    "+ Matches should be case-insensitive, and the words in the result should be lowercased.\n",
    "+ Ties may be broken arbitrarily.\n",
    "+ If a text contains fewer than three unique words, then either the top-2 or top-1 words should be returned, or an empty array if a text contains no words."
   ]
  },
  {
   "cell_type": "markdown",
   "id": "13519658",
   "metadata": {},
   "source": [
    "### Examples"
   ]
  },
  {
   "cell_type": "code",
   "execution_count": null,
   "id": "c0f9ba57",
   "metadata": {},
   "outputs": [],
   "source": [
    "top_3_words(\"In a village of La Mancha, the name of which I have no desire to call to\n",
    "mind, there lived not long since one of those gentlemen that keep a lance\n",
    "in the lance-rack, an old buckler, a lean hack, and a greyhound for\n",
    "coursing. An olla of rather more beef than mutton, a salad on most\n",
    "nights, scraps on Saturdays, lentils on Fridays, and a pigeon or so extra\n",
    "on Sundays, made away with three-quarters of his income.\")\n",
    "# => [\"a\", \"of\", \"on\"]\n",
    "\n",
    "top_3_words(\"e e e e DDD ddd DdD: ddd ddd aa aA Aa, bb cc cC e e e\")\n",
    "# => [\"e\", \"ddd\", \"aa\"]\n",
    "\n",
    "top_3_words(\"  //wont won't won't\")\n",
    "# => [\"won't\", \"wont\"]"
   ]
  },
  {
   "cell_type": "markdown",
   "id": "1d84881f",
   "metadata": {},
   "source": [
    "### Bonus points (not really, but just for fun):\n",
    "1. Avoid creating an array whose memory footprint is roughly as big as the input text.\n",
    "2. Avoid sorting the entire array of unique words."
   ]
  },
  {
   "cell_type": "markdown",
   "id": "f1c439f9",
   "metadata": {},
   "source": [
    "### My solution"
   ]
  },
  {
   "cell_type": "code",
   "execution_count": 7,
   "id": "8ebdb4b4",
   "metadata": {},
   "outputs": [],
   "source": [
    "import re\n",
    "from collections import Counter\n",
    "\n",
    "def top_3_words(text):\n",
    "    return [w for w,_ in Counter(re.findall(r\"[a-z']+\", re.sub(r\" '+ \", \" \", text.lower()))).most_common(3)]"
   ]
  },
  {
   "cell_type": "markdown",
   "id": "def67bde",
   "metadata": {},
   "source": [
    "### Sample Tests"
   ]
  },
  {
   "cell_type": "code",
   "execution_count": null,
   "id": "32cb8727",
   "metadata": {},
   "outputs": [],
   "source": [
    "test.assert_equals(top_3_words(\"a a a  b  c c  d d d d  e e e e e\"), [\"e\", \"d\", \"a\"])\n",
    "test.assert_equals(top_3_words(\"e e e e DDD ddd DdD: ddd ddd aa aA Aa, bb cc cC e e e\"), [\"e\", \"ddd\", \"aa\"])\n",
    "test.assert_equals(top_3_words(\"  //wont won't won't \"), [\"won't\", \"wont\"])\n",
    "test.assert_equals(top_3_words(\"  , e   .. \"), [\"e\"])\n",
    "test.assert_equals(top_3_words(\"  ...  \"), [])\n",
    "test.assert_equals(top_3_words(\"  '  \"), [])\n",
    "test.assert_equals(top_3_words(\"  '''  \"), [])\n",
    "test.assert_equals(top_3_words(\"\"\"In a village of La Mancha, the name of which I have no desire to call to\n",
    "mind, there lived not long since one of those gentlemen that keep a lance\n",
    "in the lance-rack, an old buckler, a lean hack, and a greyhound for\n",
    "coursing. An olla of rather more beef than mutton, a salad on most\n",
    "nights, scraps on Saturdays, lentils on Fridays, and a pigeon or so extra\n",
    "on Sundays, made away with three-quarters of his income.\"\"\"), [\"a\", \"of\", \"on\"])"
   ]
  }
 ],
 "metadata": {
  "kernelspec": {
   "display_name": "Python 3 (ipykernel)",
   "language": "python",
   "name": "python3"
  },
  "language_info": {
   "codemirror_mode": {
    "name": "ipython",
    "version": 3
   },
   "file_extension": ".py",
   "mimetype": "text/x-python",
   "name": "python",
   "nbconvert_exporter": "python",
   "pygments_lexer": "ipython3",
   "version": "3.9.7"
  }
 },
 "nbformat": 4,
 "nbformat_minor": 5
}
