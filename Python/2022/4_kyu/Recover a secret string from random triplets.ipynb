{
 "cells": [
  {
   "cell_type": "markdown",
   "id": "88b02dd1",
   "metadata": {},
   "source": [
    "## Recover a secret string from random triplets\n",
    "###### `ALGORITHMS`"
   ]
  },
  {
   "cell_type": "markdown",
   "id": "96cb46ac",
   "metadata": {},
   "source": [
    "There is a secret string which is unknown to you. Given a collection of random triplets from the string, recover the original string.\n",
    "\n",
    "A triplet here is defined as a sequence of three letters such that each letter occurs somewhere before the next in the given string. \"whi\" is a triplet for the string \"whatisup\".\n",
    "\n",
    "As a simplification, you may assume that no letter occurs more than once in the secret string.\n",
    "\n",
    "You can assume nothing about the triplets given to you other than that they are valid triplets and that they contain sufficient information to deduce the original string. In particular, this means that the secret string will never contain letters that do not occur in one of the triplets given to you."
   ]
  },
  {
   "cell_type": "markdown",
   "id": "f1c439f9",
   "metadata": {},
   "source": [
    "### My solution"
   ]
  },
  {
   "cell_type": "code",
   "execution_count": 7,
   "id": "8ebdb4b4",
   "metadata": {},
   "outputs": [],
   "source": [
    "def recoverSecret(triplets):\n",
    "    \n",
    "    ls = list(set([l for t in triplets for l in t]))        \n",
    "            \n",
    "    for t in triplets * len(ls):\n",
    "        for i in range(len(t) - 1):\n",
    "            a, b = ls.index(t[i]), ls.index(t[i + 1])\n",
    "            if( a > b ): ls[b], ls[a] = ls[a], ls[b]\n",
    "            \n",
    "    return ''.join(ls)      "
   ]
  },
  {
   "cell_type": "markdown",
   "id": "def67bde",
   "metadata": {},
   "source": [
    "### Sample Tests"
   ]
  },
  {
   "cell_type": "code",
   "execution_count": null,
   "id": "32cb8727",
   "metadata": {},
   "outputs": [],
   "source": [
    "secret = \"whatisup\"\n",
    "triplets = [\n",
    "  ['t','u','p'],\n",
    "  ['w','h','i'],\n",
    "  ['t','s','u'],\n",
    "  ['a','t','s'],\n",
    "  ['h','a','p'],\n",
    "  ['t','i','s'],\n",
    "  ['w','h','s']\n",
    "]\n",
    "\n",
    "test.assert_equals(recoverSecret(triplets), secret)"
   ]
  }
 ],
 "metadata": {
  "kernelspec": {
   "display_name": "Python 3 (ipykernel)",
   "language": "python",
   "name": "python3"
  },
  "language_info": {
   "codemirror_mode": {
    "name": "ipython",
    "version": 3
   },
   "file_extension": ".py",
   "mimetype": "text/x-python",
   "name": "python",
   "nbconvert_exporter": "python",
   "pygments_lexer": "ipython3",
   "version": "3.9.7"
  }
 },
 "nbformat": 4,
 "nbformat_minor": 5
}
