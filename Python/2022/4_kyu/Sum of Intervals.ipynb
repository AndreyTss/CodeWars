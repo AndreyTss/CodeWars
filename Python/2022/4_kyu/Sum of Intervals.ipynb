{
 "cells": [
  {
   "cell_type": "markdown",
   "id": "88b02dd1",
   "metadata": {},
   "source": [
    "## Sum of Intervals\n",
    "###### `ALGORITHMS` `AGGREGATIONS` `ARITHMETIC` `MATHEMATICS` `NUMBERS` `INTEGERS` `PERFORMANCE`"
   ]
  },
  {
   "cell_type": "markdown",
   "id": "96cb46ac",
   "metadata": {},
   "source": [
    "Write a function called `sumIntervals/sum_intervals()` that accepts an array of intervals, and returns the sum of all the interval lengths. Overlapping intervals should only be counted once.\n",
    "\n",
    "###### Intervals\n",
    "Intervals are represented by a pair of integers in the form of an array. The first value of the interval will always be less than the second value. Interval example: `[1, 5]` is an interval from 1 to 5. The length of this interval is 4.\n",
    "\n",
    "###### Overlapping Intervals\n",
    "List containing overlapping intervals:"
   ]
  },
  {
   "cell_type": "code",
   "execution_count": null,
   "id": "34dbd7c4",
   "metadata": {},
   "outputs": [],
   "source": [
    "[\n",
    "   [1,4],\n",
    "   [7, 10],\n",
    "   [3, 5]\n",
    "]"
   ]
  },
  {
   "cell_type": "markdown",
   "id": "e145ef74",
   "metadata": {},
   "source": [
    "The sum of the lengths of these intervals is 7. Since [1, 4] and [3, 5] overlap, we can treat the interval as [1, 5], which has a length of 4."
   ]
  },
  {
   "cell_type": "markdown",
   "id": "13519658",
   "metadata": {},
   "source": [
    "### Examples"
   ]
  },
  {
   "cell_type": "code",
   "execution_count": null,
   "id": "865beeaf",
   "metadata": {},
   "outputs": [],
   "source": [
    "sumIntervals( [\n",
    "   [1,2],\n",
    "   [6, 10],\n",
    "   [11, 15]\n",
    "] ); // => 9\n",
    "\n",
    "sumIntervals( [\n",
    "   [1,4],\n",
    "   [7, 10],\n",
    "   [3, 5]\n",
    "] ); // => 7\n",
    "\n",
    "sumIntervals( [\n",
    "   [1,5],\n",
    "   [10, 20],\n",
    "   [1, 6],\n",
    "   [16, 19],\n",
    "   [5, 11]\n",
    "] ); // => 19"
   ]
  },
  {
   "cell_type": "markdown",
   "id": "f1c439f9",
   "metadata": {},
   "source": [
    "### My solution"
   ]
  },
  {
   "cell_type": "code",
   "execution_count": 7,
   "id": "8ebdb4b4",
   "metadata": {},
   "outputs": [],
   "source": [
    "def sum_of_intervals(intervals):\n",
    "    sum = 0\n",
    "    \n",
    "    intervals = sorted(set(intervals))\n",
    "    num = intervals[0][0]\n",
    "    \n",
    "    for interval in intervals:\n",
    "        if (num > interval[0]) and (interval[1] > num):\n",
    "            sum += interval[1] - num\n",
    "            num = interval[1]\n",
    "        elif num <= interval[0]: \n",
    "            sum += interval[1] - interval[0]\n",
    "            num = interval[1]\n",
    "        \n",
    "    return sum"
   ]
  },
  {
   "cell_type": "markdown",
   "id": "def67bde",
   "metadata": {},
   "source": [
    "### Sample Tests"
   ]
  },
  {
   "cell_type": "code",
   "execution_count": null,
   "id": "32cb8727",
   "metadata": {},
   "outputs": [],
   "source": [
    "from solution import sum_of_intervals\n",
    "import codewars_test as test\n",
    "\n",
    "@test.describe(\"Fixed tests\")\n",
    "def fixed_tests():\n",
    "    @test.it(\"Tests\")\n",
    "    def it_1():\n",
    "        test.assert_equals(sum_of_intervals([(1, 5)]), 4)\n",
    "        test.assert_equals(sum_of_intervals([(1, 5), (6, 10)]), 8)\n",
    "        test.assert_equals(sum_of_intervals([(1, 5), (1, 5)]), 4)\n",
    "        test.assert_equals(sum_of_intervals([(1, 4), (7, 10), (3, 5)]), 7)"
   ]
  }
 ],
 "metadata": {
  "kernelspec": {
   "display_name": "Python 3 (ipykernel)",
   "language": "python",
   "name": "python3"
  },
  "language_info": {
   "codemirror_mode": {
    "name": "ipython",
    "version": 3
   },
   "file_extension": ".py",
   "mimetype": "text/x-python",
   "name": "python",
   "nbconvert_exporter": "python",
   "pygments_lexer": "ipython3",
   "version": "3.9.7"
  }
 },
 "nbformat": 4,
 "nbformat_minor": 5
}
