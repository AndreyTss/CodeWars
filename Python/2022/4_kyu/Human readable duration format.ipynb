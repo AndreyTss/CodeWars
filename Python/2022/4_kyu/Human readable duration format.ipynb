{
 "cells": [
  {
   "cell_type": "markdown",
   "id": "88b02dd1",
   "metadata": {},
   "source": [
    "## Human readable duration format\n",
    "###### `ALGORITHMS` `FORMATS` `STRINGS` `DATES/TIME` `FORMATTING`"
   ]
  },
  {
   "cell_type": "markdown",
   "id": "96cb46ac",
   "metadata": {},
   "source": [
    "Your task in order to complete this Kata is to write a function which formats a duration, given as a number of seconds, in a human-friendly way.\n",
    "\n",
    "The function must accept a non-negative integer. If it is zero, it just returns `\"now\"`. Otherwise, the duration is expressed as a combination of `years`, `days`, `hours`, `minutes` and `seconds`.\n",
    "\n",
    "It is much easier to understand with an example:"
   ]
  },
  {
   "cell_type": "markdown",
   "id": "13519658",
   "metadata": {},
   "source": [
    "### Examples"
   ]
  },
  {
   "cell_type": "code",
   "execution_count": null,
   "id": "c0f9ba57",
   "metadata": {},
   "outputs": [],
   "source": [
    "* For seconds = 62, your function should return \n",
    "    \"1 minute and 2 seconds\"\n",
    "* For seconds = 3662, your function should return\n",
    "    \"1 hour, 1 minute and 2 seconds\""
   ]
  },
  {
   "cell_type": "markdown",
   "id": "1d84881f",
   "metadata": {},
   "source": [
    "For the purpose of this Kata, a year is 365 days and a day is 24 hours.\n",
    "\n",
    "Note that spaces are important.\n",
    "\n",
    "Detailed rules\n",
    "The resulting expression is made of components like `4 seconds`, `1 year`, etc. In general, a positive integer and one of the valid units of time, separated by a space. The unit of time is used in plural if the integer is greater than 1.\n",
    "\n",
    "The components are separated by a comma and a space (`\", \"`). Except the last component, which is separated by `\" and \"`, just like it would be written in English.\n",
    "\n",
    "A more significant units of time will occur before than a least significant one. Therefore, `1 second and 1 year` is not correct, but `1 year and 1 second` is.\n",
    "\n",
    "Different components have different unit of times. So there is not repeated units like in `5 seconds and 1 second`.\n",
    "\n",
    "A component will not appear at all if its value happens to be zero. Hence, `1 minute and 0 seconds` is not valid, but it should be just `1 minute`.\n",
    "\n",
    "A unit of time must be used \"as much as possible\". It means that the function should not return `61 seconds`, but `1 minute and 1 second` instead. Formally, the duration specified by of a component must not be greater than any valid more significant unit of time."
   ]
  },
  {
   "cell_type": "markdown",
   "id": "f1c439f9",
   "metadata": {},
   "source": [
    "### My solution"
   ]
  },
  {
   "cell_type": "code",
   "execution_count": 7,
   "id": "8ebdb4b4",
   "metadata": {},
   "outputs": [],
   "source": [
    "def count(item, time):\n",
    "    count=0\n",
    "    for i in time[(item + 1):]:\n",
    "        if i != 0:\n",
    "            count = count+1\n",
    "    return count\n",
    "            \n",
    "def format_duration(sec):\n",
    "    \n",
    "    time = [0, 0, 0, 0, 0]\n",
    "    \n",
    "    time[0] = int(sec / 31536000)\n",
    "    time[1] = int(sec / 86400 - time[0] * 365)\n",
    "    time[2] = int(sec / 3600 - time[1] * 24 - time[0] * 8760)\n",
    "    time[3] = int(sec / 60 - time[2] * 60 - time[1] * 1440 - time[0] * 525600)\n",
    "    time[4] = sec - time[3] * 60 - time[2] * 3600 - time[1] * 86400 - time[0] * 31536000\n",
    "    \n",
    "    ans = ''\n",
    "    for i in range(0,len(time)):\n",
    "        m = ''\n",
    "        if time[i] > 0:\n",
    "            m = str(time[i])\n",
    "            if i == 0:\n",
    "                m = m + ' year' if time[i] == 1 else m + ' years'\n",
    "            if i == 1:\n",
    "                m = m + ' day' if time[i] == 1 else m + ' days'\n",
    "            if i == 2:\n",
    "                m = m + ' hour' if time[i] == 1 else m + ' hours'\n",
    "            if i == 3:\n",
    "                m = m + ' minute' if time[i] == 1 else m + ' minutes'\n",
    "            if i == 4:\n",
    "                m = m + ' second' if time[i] == 1 else m + ' seconds'\n",
    "        if i != 4 and time[i]>0:\n",
    "            c = count(i, time)\n",
    "            if c > 0:\n",
    "                m = m + ' and 'if c==1 else m + ', '\n",
    "        ans = ans + m\n",
    "    if sec == 0:\n",
    "        return 'now'\n",
    "    else:\n",
    "        return ans"
   ]
  },
  {
   "cell_type": "markdown",
   "id": "def67bde",
   "metadata": {},
   "source": [
    "### Sample Tests"
   ]
  },
  {
   "cell_type": "code",
   "execution_count": null,
   "id": "32cb8727",
   "metadata": {},
   "outputs": [],
   "source": [
    "test.assert_equals(format_duration(1), \"1 second\")\n",
    "test.assert_equals(format_duration(62), \"1 minute and 2 seconds\")\n",
    "test.assert_equals(format_duration(120), \"2 minutes\")\n",
    "test.assert_equals(format_duration(3600), \"1 hour\")\n",
    "test.assert_equals(format_duration(3662), \"1 hour, 1 minute and 2 seconds\")"
   ]
  }
 ],
 "metadata": {
  "kernelspec": {
   "display_name": "Python 3 (ipykernel)",
   "language": "python",
   "name": "python3"
  },
  "language_info": {
   "codemirror_mode": {
    "name": "ipython",
    "version": 3
   },
   "file_extension": ".py",
   "mimetype": "text/x-python",
   "name": "python",
   "nbconvert_exporter": "python",
   "pygments_lexer": "ipython3",
   "version": "3.9.7"
  }
 },
 "nbformat": 4,
 "nbformat_minor": 5
}
