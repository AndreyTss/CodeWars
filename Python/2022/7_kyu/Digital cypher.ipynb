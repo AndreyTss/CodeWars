{
 "cells": [
  {
   "cell_type": "markdown",
   "id": "88b02dd1",
   "metadata": {},
   "source": [
    "## Digital cypher\n",
    "###### `FUNDAMENTALS` `ENCRYPTION` `ALGORITHMS` `CRYPTOGRAPHY` `SECURITY`"
   ]
  },
  {
   "cell_type": "markdown",
   "id": "96cb46ac",
   "metadata": {},
   "source": [
    "### Introduction\n",
    "Digital Cypher assigns to each letter of the alphabet unique number. For example:"
   ]
  },
  {
   "cell_type": "code",
   "execution_count": null,
   "id": "998e76c9",
   "metadata": {},
   "outputs": [],
   "source": [
    " a  b  c  d  e  f  g  h  i  j  k  l  m\n",
    " 1  2  3  4  5  6  7  8  9 10 11 12 13\n",
    " n  o  p  q  r  s  t  u  v  w  x  y  z\n",
    "14 15 16 17 18 19 20 21 22 23 24 25 26"
   ]
  },
  {
   "cell_type": "markdown",
   "id": "0bd942c7",
   "metadata": {},
   "source": [
    "Instead of letters in encrypted word we write the corresponding number, eg. The word scout:"
   ]
  },
  {
   "cell_type": "code",
   "execution_count": null,
   "id": "578d5b3b",
   "metadata": {},
   "outputs": [],
   "source": [
    " s  c  o  u  t\n",
    "19  3 15 21 20"
   ]
  },
  {
   "cell_type": "markdown",
   "id": "04759064",
   "metadata": {},
   "source": [
    "Then we add to each obtained digit consecutive digits from the key. For example. In case of key equal to `1939`:"
   ]
  },
  {
   "cell_type": "code",
   "execution_count": null,
   "id": "5e5e63b3",
   "metadata": {},
   "outputs": [],
   "source": [
    "  s  c  o  u  t\n",
    "  19  3 15 21 20\n",
    " + 1  9  3  9  1\n",
    " ---------------\n",
    "  20 12 18 30 21\n",
    "  \n",
    "   m  a  s  t  e  r  p  i  e  c  e\n",
    "  13  1 19 20  5 18 16  9  5  3  5\n",
    "+  1  9  3  9  1  9  3  9  1  9  3\n",
    "  --------------------------------\n",
    "  14 10 22 29  6 27 19 18  6  12 8"
   ]
  },
  {
   "cell_type": "markdown",
   "id": "035bb132",
   "metadata": {},
   "source": [
    "### Task\n",
    "Write a function that accepts `str` string and `key` number and returns an array of integers representing encoded `str`.\n",
    "\n",
    "### Input / Output\n",
    "The `str` input string consists of lowercase characters only.\n",
    "The `key` input number is a positive integer."
   ]
  },
  {
   "cell_type": "markdown",
   "id": "e3fb5652",
   "metadata": {},
   "source": [
    "### Example"
   ]
  },
  {
   "cell_type": "code",
   "execution_count": null,
   "id": "a53c8fa5",
   "metadata": {},
   "outputs": [],
   "source": [
    "Encode(\"scout\",1939);  ==>  [ 20, 12, 18, 30, 21]\n",
    "Encode(\"masterpiece\",1939);  ==>  [ 14, 10, 22, 29, 6, 27, 19, 18, 6, 12, 8]"
   ]
  },
  {
   "cell_type": "markdown",
   "id": "f1c439f9",
   "metadata": {},
   "source": [
    "### My solution"
   ]
  },
  {
   "cell_type": "code",
   "execution_count": 7,
   "id": "8ebdb4b4",
   "metadata": {},
   "outputs": [],
   "source": [
    "def encode(message, key):\n",
    "    fin = []\n",
    "    k = 0\n",
    "    for i in message:\n",
    "        if k == len(str(key)):\n",
    "            k = 0  \n",
    "        fin.append(ord(i) - 96 + int(str(key)[k]))\n",
    "        k += 1\n",
    "    return fin"
   ]
  },
  {
   "cell_type": "markdown",
   "id": "def67bde",
   "metadata": {},
   "source": [
    "### Sample Tests"
   ]
  },
  {
   "cell_type": "code",
   "execution_count": null,
   "id": "32cb8727",
   "metadata": {},
   "outputs": [],
   "source": [
    "test.assert_equals(encode(\"scout\", 1939), [20, 12, 18, 30, 21])\n",
    "test.assert_equals(encode(\"masterpiece\", 1939), [14, 10, 22, 29, 6, 27, 19, 18, 6, 12, 8])"
   ]
  }
 ],
 "metadata": {
  "kernelspec": {
   "display_name": "Python 3 (ipykernel)",
   "language": "python",
   "name": "python3"
  },
  "language_info": {
   "codemirror_mode": {
    "name": "ipython",
    "version": 3
   },
   "file_extension": ".py",
   "mimetype": "text/x-python",
   "name": "python",
   "nbconvert_exporter": "python",
   "pygments_lexer": "ipython3",
   "version": "3.9.7"
  }
 },
 "nbformat": 4,
 "nbformat_minor": 5
}
