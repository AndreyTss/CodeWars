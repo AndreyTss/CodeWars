{
 "cells": [
  {
   "cell_type": "markdown",
   "id": "88b02dd1",
   "metadata": {},
   "source": [
    "## You're a square!\n",
    "###### `FUNDAMENTALS`"
   ]
  },
  {
   "cell_type": "markdown",
   "id": "96cb46ac",
   "metadata": {},
   "source": [
    "You like building blocks. You especially like building blocks that are squares. And what you even like more, is to arrange them into a square of square building blocks!\n",
    "\n",
    "However, sometimes, you can't arrange them into a square. Instead, you end up with an ordinary rectangle! Those blasted things! If you just had a way to know, whether you're currently working in vain… Wait! That's it! You just have to check if your number of building blocks is a perfect square.\n",
    "\n",
    "Given an integral number, determine if it's a square number:\n",
    "\n",
    "> \"In mathematics, a square number or perfect square is an integer that is the square of an integer; in other words, it is the product of some integer with itself.\"\n",
    "\n",
    "The tests will always use some integral number, so don't worry about that in dynamic typed languages."
   ]
  },
  {
   "cell_type": "markdown",
   "id": "e1c90981",
   "metadata": {},
   "source": [
    "### Example\n",
    "`-1  =>  false`  \n",
    "`0  =>  true`  \n",
    "`3  =>  false`  \n",
    "`4  =>  true`  \n",
    "`25  =>  true`  \n",
    "`26  =>  false`  "
   ]
  },
  {
   "cell_type": "markdown",
   "id": "f1c439f9",
   "metadata": {},
   "source": [
    "### My solution"
   ]
  },
  {
   "cell_type": "code",
   "execution_count": 7,
   "id": "8ebdb4b4",
   "metadata": {},
   "outputs": [],
   "source": [
    "def is_square(n):    \n",
    "    return n >= 0 and (n**0.5) % 1 == 0"
   ]
  },
  {
   "cell_type": "markdown",
   "id": "def67bde",
   "metadata": {},
   "source": [
    "### Sample Tests"
   ]
  },
  {
   "cell_type": "code",
   "execution_count": null,
   "id": "32cb8727",
   "metadata": {},
   "outputs": [],
   "source": [
    "import codewars_test as test\n",
    "from solution import is_square\n",
    "\n",
    "@test.describe(\"Fixed Tests\")\n",
    "def fixed_tests():\n",
    "    @test.it('Basic Test Cases')\n",
    "    def basic_test_cases():\n",
    "        test.assert_equals(is_square(-1), False, \"-1: Negative numbers cannot be square numbers\")\n",
    "        test.assert_equals(is_square( 0), True, \"0 is a square number (0 * 0)\")\n",
    "        test.assert_equals(is_square( 3), False, \"3 is not a square number\")\n",
    "        test.assert_equals(is_square( 4), True, \"4 is a square number (2 * 2)\")\n",
    "        test.assert_equals(is_square(25), True, \"25 is a square number (5 * 5)\")\n",
    "        test.assert_equals(is_square(26), False, \"26 is not a square number\")"
   ]
  }
 ],
 "metadata": {
  "kernelspec": {
   "display_name": "Python 3 (ipykernel)",
   "language": "python",
   "name": "python3"
  },
  "language_info": {
   "codemirror_mode": {
    "name": "ipython",
    "version": 3
   },
   "file_extension": ".py",
   "mimetype": "text/x-python",
   "name": "python",
   "nbconvert_exporter": "python",
   "pygments_lexer": "ipython3",
   "version": "3.9.7"
  }
 },
 "nbformat": 4,
 "nbformat_minor": 5
}
