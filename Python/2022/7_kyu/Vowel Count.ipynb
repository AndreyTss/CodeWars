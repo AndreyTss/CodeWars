{
 "cells": [
  {
   "cell_type": "markdown",
   "id": "88b02dd1",
   "metadata": {},
   "source": [
    "## Vowel Count\n",
    "###### `FUNDAMENTALS` `STRINGS` `UTILITIES`"
   ]
  },
  {
   "cell_type": "markdown",
   "id": "20acd93d",
   "metadata": {},
   "source": [
    "Return the number (count) of vowels in the given string.\n",
    "\n",
    "We will consider `a`, `e`, `i`, `o`, `u` as vowels for this Kata (but not `y`).\n",
    "\n",
    "The input string will only consist of lower case letters and/or spaces."
   ]
  },
  {
   "cell_type": "markdown",
   "id": "f1c439f9",
   "metadata": {},
   "source": [
    "### My solution"
   ]
  },
  {
   "cell_type": "code",
   "execution_count": 7,
   "id": "8ebdb4b4",
   "metadata": {},
   "outputs": [],
   "source": [
    "def get_count(sentence):\n",
    "    a = 0\n",
    "    \n",
    "    for i in sentence:\n",
    "        if i in 'aioeu':\n",
    "            a += 1\n",
    "    return a"
   ]
  },
  {
   "cell_type": "markdown",
   "id": "def67bde",
   "metadata": {},
   "source": [
    "### Sample Tests"
   ]
  },
  {
   "cell_type": "code",
   "execution_count": null,
   "id": "32cb8727",
   "metadata": {},
   "outputs": [],
   "source": [
    "import codewars_test as test\n",
    "from solution import get_count\n",
    "\n",
    "@test.describe(\"Sample tests\")\n",
    "def sample_tests():\n",
    "    \n",
    "    @test.it(\"Should count all vowels\")\n",
    "    def all_vowels():\n",
    "        test.assert_equals(get_count(\"aeiou\"), 5, f\"Incorrect answer for \\\"aeiou\\\"\")\n",
    "        \n",
    "    @test.it(\"Should not count \\\"y\\\"\")\n",
    "    def only_y():\n",
    "        test.assert_equals(get_count(\"y\"), 0, f\"Incorrect answer for \\\"y\\\"\")        \n",
    "        \n",
    "    @test.it(\"Should return 0 when no vowels\")\n",
    "    def no_vowels():\n",
    "        test.assert_equals(get_count(\"bcdfghjklmnpqrstvwxz y\"), 0, f\"Incorrect answer for \\\"bcdfghjklmnpqrstvwxz y\\\"\")\n",
    "        \n",
    "    @test.it(\"Should return 0 for empty string\")\n",
    "    def no_vowels():\n",
    "        test.assert_equals(get_count(\"\"), 0, f\"Incorrect answer for empty string\")\n",
    "        \n",
    "    @test.it(\"Should return 5 for \\\"abracadabra\\\"\")\n",
    "    def test_abracadabra():    \n",
    "        test.assert_equals(get_count(\"abracadabra\"), 5, f\"Incorrect answer for \\\"abracadabra\\\"\")"
   ]
  }
 ],
 "metadata": {
  "kernelspec": {
   "display_name": "Python 3 (ipykernel)",
   "language": "python",
   "name": "python3"
  },
  "language_info": {
   "codemirror_mode": {
    "name": "ipython",
    "version": 3
   },
   "file_extension": ".py",
   "mimetype": "text/x-python",
   "name": "python",
   "nbconvert_exporter": "python",
   "pygments_lexer": "ipython3",
   "version": "3.9.7"
  }
 },
 "nbformat": 4,
 "nbformat_minor": 5
}
