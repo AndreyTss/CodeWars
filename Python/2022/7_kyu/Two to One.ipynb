{
 "cells": [
  {
   "cell_type": "markdown",
   "id": "88b02dd1",
   "metadata": {},
   "source": [
    "## Two to One\n",
    "###### `FUNDAMENTALS`"
   ]
  },
  {
   "cell_type": "markdown",
   "id": "96cb46ac",
   "metadata": {},
   "source": [
    "Take 2 strings `s1` and `s2` including only letters from `a` to `z`. Return a new sorted string, the longest possible, containing distinct letters - each taken only once - coming from s1 or s2."
   ]
  },
  {
   "cell_type": "markdown",
   "id": "0f7a37fe",
   "metadata": {},
   "source": [
    "### Examples\n",
    "`a = \"xyaabbbccccdefww\"`  \n",
    "`b = \"xxxxyyyyabklmopq\"`  \n",
    "`longest(a, b) -> \"abcdefklmopqwxy\"`  \n",
    "\n",
    "`a = \"abcdefghijklmnopqrstuvwxyz\"`  \n",
    "`longest(a, a) -> \"abcdefghijklmnopqrstuvwxyz\"`   "
   ]
  },
  {
   "cell_type": "markdown",
   "id": "f1c439f9",
   "metadata": {},
   "source": [
    "### My solution"
   ]
  },
  {
   "cell_type": "code",
   "execution_count": 7,
   "id": "8ebdb4b4",
   "metadata": {},
   "outputs": [],
   "source": [
    "def longest(a1, a2):\n",
    "    return ''.join(sorted(set(a1+a2)))"
   ]
  },
  {
   "cell_type": "markdown",
   "id": "def67bde",
   "metadata": {},
   "source": [
    "### Sample Tests"
   ]
  },
  {
   "cell_type": "code",
   "execution_count": null,
   "id": "32cb8727",
   "metadata": {},
   "outputs": [],
   "source": [
    "import codewars_test as test\n",
    "    \n",
    "@test.describe(\"longest\")\n",
    "def tests():\n",
    "    @test.it(\"basic tests\")\n",
    "    def basics():\n",
    "        test.assert_equals(longest(\"aretheyhere\", \"yestheyarehere\"), \"aehrsty\")\n",
    "        test.assert_equals(longest(\"loopingisfunbutdangerous\", \"lessdangerousthancoding\"), \"abcdefghilnoprstu\")\n",
    "        test.assert_equals(longest(\"inmanylanguages\", \"theresapairoffunctions\"), \"acefghilmnoprstuy\")\n",
    "        "
   ]
  }
 ],
 "metadata": {
  "kernelspec": {
   "display_name": "Python 3 (ipykernel)",
   "language": "python",
   "name": "python3"
  },
  "language_info": {
   "codemirror_mode": {
    "name": "ipython",
    "version": 3
   },
   "file_extension": ".py",
   "mimetype": "text/x-python",
   "name": "python",
   "nbconvert_exporter": "python",
   "pygments_lexer": "ipython3",
   "version": "3.9.7"
  }
 },
 "nbformat": 4,
 "nbformat_minor": 5
}
