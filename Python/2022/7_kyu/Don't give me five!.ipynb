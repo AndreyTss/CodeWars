{
 "cells": [
  {
   "cell_type": "markdown",
   "id": "88b02dd1",
   "metadata": {},
   "source": [
    "## Don't give me five!\n",
    "###### `ALGORITHMS` `BASIC LANGUAGE FEATURES` `FUNDAMENTALS` `MATHEMATICS` `NUMBERS` `ARRAYS`"
   ]
  },
  {
   "cell_type": "markdown",
   "id": "96cb46ac",
   "metadata": {},
   "source": [
    "In this kata you get the start number and the end number of a region and should return the count of all numbers except numbers with a 5 in it. The start and the end number are both inclusive!"
   ]
  },
  {
   "cell_type": "markdown",
   "id": "7a848826",
   "metadata": {},
   "source": [
    "### Examples\n",
    "`1,9 -> 1,2,3,4,6,7,8,9 -> Result 8\n",
    "4,17 -> 4,6,7,8,9,10,11,12,13,14,16,17 -> Result 12`   "
   ]
  },
  {
   "cell_type": "markdown",
   "id": "35b173d0",
   "metadata": {},
   "source": [
    "The result may contain fives. ;-)  \n",
    "The start number will always be smaller than the end number. Both numbers can be also negative!  \n",
    "\n",
    "I'm very curious for your solutions and the way you solve it. Maybe someone of you will find an easy pure mathematics solution.  \n",
    "\n",
    "Have fun coding it and please don't forget to vote and rank this kata! :-)  \n",
    "\n",
    "I have also created other katas. Take a look if you enjoyed this kata!  "
   ]
  },
  {
   "cell_type": "markdown",
   "id": "f1c439f9",
   "metadata": {},
   "source": [
    "### My solution"
   ]
  },
  {
   "cell_type": "code",
   "execution_count": 7,
   "id": "8ebdb4b4",
   "metadata": {},
   "outputs": [],
   "source": [
    "def dont_give_me_five(start,end):\n",
    "    \n",
    "    n = end - start + 1\n",
    "    for i in range(start, end + 1, 1):\n",
    "        if '5' in str(i):\n",
    "            print(i)\n",
    "            n -= 1\n",
    "    \n",
    "    return n"
   ]
  },
  {
   "cell_type": "markdown",
   "id": "def67bde",
   "metadata": {},
   "source": [
    "### Sample Tests"
   ]
  },
  {
   "cell_type": "code",
   "execution_count": null,
   "id": "32cb8727",
   "metadata": {},
   "outputs": [],
   "source": [
    "import codewars_test as test\n",
    "from solution import dont_give_me_five\n",
    "\n",
    "@test.describe(\"Fixed Tests\")\n",
    "def fixed_tests():\n",
    "    @test.it('Basic Test Cases')\n",
    "    def basic_test_cases():\n",
    "        test.assert_equals(dont_give_me_five(1,9), 8)\n",
    "        test.assert_equals(dont_give_me_five(4,17), 12)"
   ]
  }
 ],
 "metadata": {
  "kernelspec": {
   "display_name": "Python 3 (ipykernel)",
   "language": "python",
   "name": "python3"
  },
  "language_info": {
   "codemirror_mode": {
    "name": "ipython",
    "version": 3
   },
   "file_extension": ".py",
   "mimetype": "text/x-python",
   "name": "python",
   "nbconvert_exporter": "python",
   "pygments_lexer": "ipython3",
   "version": "3.9.7"
  }
 },
 "nbformat": 4,
 "nbformat_minor": 5
}
