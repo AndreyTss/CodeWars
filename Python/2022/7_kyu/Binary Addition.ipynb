{
 "cells": [
  {
   "cell_type": "markdown",
   "id": "88b02dd1",
   "metadata": {},
   "source": [
    "## Binary Addition\n",
    "###### `FUNDAMENTALS` `BINARY`"
   ]
  },
  {
   "cell_type": "markdown",
   "id": "96cb46ac",
   "metadata": {},
   "source": [
    "Implement a function that adds two numbers together and returns their sum in binary. The conversion can be done before, or after the addition.\n",
    "\n",
    "The binary number returned should be a string."
   ]
  },
  {
   "cell_type": "markdown",
   "id": "20acd93d",
   "metadata": {},
   "source": [
    "### Examples\n",
    "\n",
    "`Input1, Input2 --> Output (explanation))`  \n",
    "\n",
    "`1, 1 --> \"10\" (1 + 1 = 2 in decimal or 10 in binary)`  \n",
    "`5, 9 --> \"1110\" (5 + 9 = 14 in decimal or 1110 in binary)`"
   ]
  },
  {
   "cell_type": "markdown",
   "id": "f1c439f9",
   "metadata": {},
   "source": [
    "### My solution"
   ]
  },
  {
   "cell_type": "code",
   "execution_count": 7,
   "id": "8ebdb4b4",
   "metadata": {},
   "outputs": [],
   "source": [
    "def add_binary(a,b):\n",
    "    return bin(a + b)[2:]"
   ]
  },
  {
   "cell_type": "markdown",
   "id": "def67bde",
   "metadata": {},
   "source": [
    "### Sample Tests"
   ]
  },
  {
   "cell_type": "code",
   "execution_count": null,
   "id": "32cb8727",
   "metadata": {},
   "outputs": [],
   "source": [
    "import codewars_test as test\n",
    "from solution import add_binary\n",
    "\n",
    "@test.describe(\"Fixed Tests\")\n",
    "def fixed_tests():\n",
    "    @test.it('Basic Test Cases')\n",
    "    def basic_test_cases():\n",
    "        test.assert_equals(add_binary(1,1),\"10\")\n",
    "        test.assert_equals(add_binary(0,1),\"1\")\n",
    "        test.assert_equals(add_binary(1,0),\"1\")\n",
    "        test.assert_equals(add_binary(2,2),\"100\")\n",
    "        test.assert_equals(add_binary(51,12),\"111111\")"
   ]
  }
 ],
 "metadata": {
  "kernelspec": {
   "display_name": "Python 3 (ipykernel)",
   "language": "python",
   "name": "python3"
  },
  "language_info": {
   "codemirror_mode": {
    "name": "ipython",
    "version": 3
   },
   "file_extension": ".py",
   "mimetype": "text/x-python",
   "name": "python",
   "nbconvert_exporter": "python",
   "pygments_lexer": "ipython3",
   "version": "3.9.7"
  }
 },
 "nbformat": 4,
 "nbformat_minor": 5
}
