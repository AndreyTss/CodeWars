{
 "cells": [
  {
   "cell_type": "markdown",
   "id": "88b02dd1",
   "metadata": {},
   "source": [
    "## Isograms\n",
    "###### `FUNDAMENTALS` `STRINGS`"
   ]
  },
  {
   "cell_type": "markdown",
   "id": "96cb46ac",
   "metadata": {},
   "source": [
    "An isogram is a word that has no repeating letters, consecutive or non-consecutive. Implement a function that determines whether a string that contains only letters is an isogram. Assume the empty string is an isogram. Ignore letter case."
   ]
  },
  {
   "cell_type": "markdown",
   "id": "7a848826",
   "metadata": {},
   "source": [
    "### Examples\n",
    "`\"Dermatoglyphics\" --> true`   \n",
    "`\"aba\" --> false`   \n",
    "`\"moOse\" --> false (ignore letter case)`   "
   ]
  },
  {
   "cell_type": "markdown",
   "id": "f1c439f9",
   "metadata": {},
   "source": [
    "### My solution"
   ]
  },
  {
   "cell_type": "code",
   "execution_count": 7,
   "id": "8ebdb4b4",
   "metadata": {},
   "outputs": [],
   "source": [
    "def is_isogram(string):\n",
    "    return True if len(set(string.lower())) == len(string) else False"
   ]
  },
  {
   "cell_type": "markdown",
   "id": "def67bde",
   "metadata": {},
   "source": [
    "### Sample Tests"
   ]
  },
  {
   "cell_type": "code",
   "execution_count": null,
   "id": "32cb8727",
   "metadata": {},
   "outputs": [],
   "source": [
    "import codewars_test as test\n",
    "from solution import is_isogram\n",
    "\n",
    "@test.describe(\"Fixed Tests\")\n",
    "def fixed_tests():\n",
    "    @test.it('Basic Test Cases')\n",
    "    def basic_test_cases():      \n",
    "        test.assert_equals(is_isogram(\"Dermatoglyphics\"), True )\n",
    "        test.assert_equals(is_isogram(\"isogram\"), True )\n",
    "        test.assert_equals(is_isogram(\"aba\"), False, \"same chars may not be adjacent\" )\n",
    "        test.assert_equals(is_isogram(\"moOse\"), False, \"same chars may not be same case\" )\n",
    "        test.assert_equals(is_isogram(\"isIsogram\"), False )\n",
    "        test.assert_equals(is_isogram(\"\"), True, \"an empty string is a valid isogram\" )"
   ]
  }
 ],
 "metadata": {
  "kernelspec": {
   "display_name": "Python 3 (ipykernel)",
   "language": "python",
   "name": "python3"
  },
  "language_info": {
   "codemirror_mode": {
    "name": "ipython",
    "version": 3
   },
   "file_extension": ".py",
   "mimetype": "text/x-python",
   "name": "python",
   "nbconvert_exporter": "python",
   "pygments_lexer": "ipython3",
   "version": "3.9.7"
  }
 },
 "nbformat": 4,
 "nbformat_minor": 5
}
