{
 "cells": [
  {
   "cell_type": "markdown",
   "id": "88b02dd1",
   "metadata": {},
   "source": [
    "## Growth of a Population\n",
    "###### `FUNDAMENTALS`"
   ]
  },
  {
   "cell_type": "markdown",
   "id": "96cb46ac",
   "metadata": {},
   "source": [
    "### Growth of a Population\n",
    "In a small town the population is `p0 = 1000` at the beginning of a year. The population regularly increases by `2 percent` per year and moreover `50` new inhabitants per year come to live in the town. How many years does the town need to see its population greater or equal to `p = 1200` inhabitants?"
   ]
  },
  {
   "cell_type": "code",
   "execution_count": null,
   "id": "1892b5a8",
   "metadata": {},
   "outputs": [],
   "source": [
    "At the end of the first year there will be: \n",
    "1000 + 1000 * 0.02 + 50 => 1070 inhabitants\n",
    "\n",
    "At the end of the 2nd year there will be: \n",
    "1070 + 1070 * 0.02 + 50 => 1141 inhabitants (** number of inhabitants is an integer **)\n",
    "\n",
    "At the end of the 3rd year there will be:\n",
    "1141 + 1141 * 0.02 + 50 => 1213\n",
    "\n",
    "It will need 3 entire years.\n"
   ]
  },
  {
   "cell_type": "markdown",
   "id": "abaad745",
   "metadata": {},
   "source": [
    "### More generally given parameters\n",
    "`p0, percent, aug (inhabitants coming or leaving each year), p (population to surpass)`\n",
    "\n",
    "the function `nb_year` should return `n` number of entire years needed to get a population greater or equal to `p`.\n",
    "\n",
    "aug is an integer, percent a positive or null floating number, p0 and p are positive integers (> 0)"
   ]
  },
  {
   "cell_type": "markdown",
   "id": "20acd93d",
   "metadata": {},
   "source": [
    "### Examples\n",
    "\n",
    "`nb_year(1500, 5, 100, 5000) -> 15\n",
    "nb_year(1500000, 2.5, 10000, 2000000) -> 10`"
   ]
  },
  {
   "cell_type": "markdown",
   "id": "430365ff",
   "metadata": {},
   "source": [
    "### Note\n",
    "Don't forget to convert the percent parameter as a percentage in the body of your function: if the parameter percent is 2 you have to convert it to 0.02"
   ]
  },
  {
   "cell_type": "markdown",
   "id": "f1c439f9",
   "metadata": {},
   "source": [
    "### My solution"
   ]
  },
  {
   "cell_type": "code",
   "execution_count": 7,
   "id": "8ebdb4b4",
   "metadata": {},
   "outputs": [],
   "source": [
    "def nb_year(p0, percent, aug, p):\n",
    "    n = 0\n",
    "    while p0 < p:\n",
    "        p0 = int(p0 + p0 * percent / 100 + aug)\n",
    "        n += 1\n",
    "    return n"
   ]
  },
  {
   "cell_type": "markdown",
   "id": "def67bde",
   "metadata": {},
   "source": [
    "### Sample Tests"
   ]
  },
  {
   "cell_type": "code",
   "execution_count": null,
   "id": "32cb8727",
   "metadata": {},
   "outputs": [],
   "source": [
    "import codewars_test as test\n",
    "from solution import nb_year\n",
    "\n",
    "@test.describe(\"nb_year\")\n",
    "def tests():\n",
    "    @test.it(\"basic tests\")\n",
    "    def basics():\n",
    "        test.assert_equals(nb_year(1500, 5, 100, 5000), 15)\n",
    "        test.assert_equals(nb_year(1500000, 2.5, 10000, 2000000), 10)\n",
    "        test.assert_equals(nb_year(1500000, 0.25, 1000, 2000000), 94)"
   ]
  }
 ],
 "metadata": {
  "kernelspec": {
   "display_name": "Python 3 (ipykernel)",
   "language": "python",
   "name": "python3"
  },
  "language_info": {
   "codemirror_mode": {
    "name": "ipython",
    "version": 3
   },
   "file_extension": ".py",
   "mimetype": "text/x-python",
   "name": "python",
   "nbconvert_exporter": "python",
   "pygments_lexer": "ipython3",
   "version": "3.9.7"
  }
 },
 "nbformat": 4,
 "nbformat_minor": 5
}
