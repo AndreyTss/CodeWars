{
 "cells": [
  {
   "cell_type": "markdown",
   "id": "88b02dd1",
   "metadata": {},
   "source": [
    "## Regex validate PIN code\n",
    "###### `FUNDAMENTALS` `REGULAR EXPRESSIONS` `DECLARATIVE PROGRAMMING` `ADVANCED LANGUAGE FEATURES` `STRINGS`"
   ]
  },
  {
   "cell_type": "markdown",
   "id": "96cb46ac",
   "metadata": {},
   "source": [
    "ATM machines allow 4 or 6 digit PIN codes and PIN codes cannot contain anything but exactly 4 digits or exactly 6 digits.\n",
    "\n",
    "If the function is passed a valid PIN string, return `true`, else return `false`."
   ]
  },
  {
   "cell_type": "markdown",
   "id": "da6af1b1",
   "metadata": {},
   "source": [
    "### Example\n",
    "`\"1234\"   -->  true`  \n",
    "`\"12345\"  -->  false`  \n",
    "`\"a234\"   -->  false`    "
   ]
  },
  {
   "cell_type": "markdown",
   "id": "f1c439f9",
   "metadata": {},
   "source": [
    "### My solution"
   ]
  },
  {
   "cell_type": "code",
   "execution_count": 7,
   "id": "8ebdb4b4",
   "metadata": {},
   "outputs": [],
   "source": [
    "def validate_pin(pin):\n",
    "    return len(pin) in (4, 6) and pin.isdigit()"
   ]
  },
  {
   "cell_type": "markdown",
   "id": "def67bde",
   "metadata": {},
   "source": [
    "### Sample Tests"
   ]
  },
  {
   "cell_type": "code",
   "execution_count": null,
   "id": "32cb8727",
   "metadata": {},
   "outputs": [],
   "source": [
    "import codewars_test as test\n",
    "from solution import validate_pin\n",
    "\n",
    "@test.describe(\"Fixed Tests\")\n",
    "def fixed_tests():\n",
    "    @test.it(\"should return False for pins with length other than 4 or 6\")\n",
    "    def basic_test_cases():    \n",
    "        test.assert_equals(validate_pin(\"1\"),False, \"Wrong output for '1'\")\n",
    "        test.assert_equals(validate_pin(\"12\"),False, \"Wrong output for '12'\")\n",
    "        test.assert_equals(validate_pin(\"123\"),False, \"Wrong output for '123'\")\n",
    "        test.assert_equals(validate_pin(\"12345\"),False, \"Wrong output for '12345'\")\n",
    "        test.assert_equals(validate_pin(\"1234567\"),False, \"Wrong output for '1234567'\")\n",
    "        test.assert_equals(validate_pin(\"-1234\"),False, \"Wrong output for '-1234'\")\n",
    "        test.assert_equals(validate_pin(\"-12345\"),False, \"Wrong output for '-12345'\")\n",
    "        test.assert_equals(validate_pin(\"1.234\"),False, \"Wrong output for '1.234'\")\n",
    "        test.assert_equals(validate_pin(\"00000000\"),False, \"Wrong output for '00000000'\")\n",
    "    \n",
    "    @test.it(\"should return False for pins which contain characters other than digits\")\n",
    "    def _():\n",
    "        test.assert_equals(validate_pin(\"a234\"),False, \"Wrong output for 'a234'\")\n",
    "        test.assert_equals(validate_pin(\".234\"),False, \"Wrong output for '.234'\")\n",
    "    \n",
    "    @test.it(\"should return True for valid pins\")\n",
    "    def _():\n",
    "        test.assert_equals(validate_pin(\"1234\"),True, \"Wrong output for '1234'\")\n",
    "        test.assert_equals(validate_pin(\"0000\"),True, \"Wrong output for '0000'\")\n",
    "        test.assert_equals(validate_pin(\"1111\"),True, \"Wrong output for '1111'\")\n",
    "        test.assert_equals(validate_pin(\"123456\"),True, \"Wrong output for '123456'\")\n",
    "        test.assert_equals(validate_pin(\"098765\"),True, \"Wrong output for '098765'\")\n",
    "        test.assert_equals(validate_pin(\"000000\"),True, \"Wrong output for '000000'\")\n",
    "        test.assert_equals(validate_pin(\"123456\"),True, \"Wrong output for '123456'\")\n",
    "        test.assert_equals(validate_pin(\"090909\"),True, \"Wrong output for '090909'\")"
   ]
  }
 ],
 "metadata": {
  "kernelspec": {
   "display_name": "Python 3 (ipykernel)",
   "language": "python",
   "name": "python3"
  },
  "language_info": {
   "codemirror_mode": {
    "name": "ipython",
    "version": 3
   },
   "file_extension": ".py",
   "mimetype": "text/x-python",
   "name": "python",
   "nbconvert_exporter": "python",
   "pygments_lexer": "ipython3",
   "version": "3.9.7"
  }
 },
 "nbformat": 4,
 "nbformat_minor": 5
}
