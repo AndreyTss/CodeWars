{
 "cells": [
  {
   "cell_type": "markdown",
   "id": "d50eff64",
   "metadata": {},
   "source": [
    "## Sum of two lowest positive integers\n",
    "###### `FUNDAMENTALS` `ARRAYS`"
   ]
  },
  {
   "cell_type": "markdown",
   "id": "16c92dba",
   "metadata": {},
   "source": [
    "### Sum of two lowest positive integers\n",
    "Create a function that returns the sum of the two lowest positive numbers given an array of minimum 4 positive integers. No floats or non-positive integers will be passed."
   ]
  },
  {
   "cell_type": "markdown",
   "id": "4c024ee3",
   "metadata": {},
   "source": [
    "### Example\n",
    "\n",
    "For example, when an array is passed like `[19, 5, 42, 2, 77]`, the output should be `7`.\n",
    "\n",
    "`[10, 343445353, 3453445, 3453545353453]` should return `3453455`  "
   ]
  },
  {
   "cell_type": "markdown",
   "id": "3c578efd",
   "metadata": {},
   "source": [
    "### My solution"
   ]
  },
  {
   "cell_type": "code",
   "execution_count": 4,
   "id": "05a9745b",
   "metadata": {},
   "outputs": [],
   "source": [
    "def sum_two_smallest_numbers(numbers):\n",
    "    sum = min(numbers)\n",
    "    numbers.pop(numbers.index(min(numbers)))\n",
    "    return sum + min(numbers)"
   ]
  },
  {
   "cell_type": "markdown",
   "id": "7dbe8572",
   "metadata": {},
   "source": [
    "### Sample Tests"
   ]
  },
  {
   "cell_type": "code",
   "execution_count": null,
   "id": "c5b1557f",
   "metadata": {},
   "outputs": [],
   "source": [
    "import codewars_test as test\n",
    "from solution import sum_two_smallest_numbers\n",
    "\n",
    "@test.describe(\"Fixed Tests\")\n",
    "def fixed_tests():\n",
    "    @test.it('Basic Test Cases')\n",
    "    def basic_test_cases():\n",
    "        test.assert_equals(sum_two_smallest_numbers([5, 8, 12, 18, 22]), 13)\n",
    "        test.assert_equals(sum_two_smallest_numbers([7, 15, 12, 18, 22]), 19)\n",
    "        test.assert_equals(sum_two_smallest_numbers([25, 42, 12, 18, 22]), 30)"
   ]
  }
 ],
 "metadata": {
  "kernelspec": {
   "display_name": "Python 3 (ipykernel)",
   "language": "python",
   "name": "python3"
  },
  "language_info": {
   "codemirror_mode": {
    "name": "ipython",
    "version": 3
   },
   "file_extension": ".py",
   "mimetype": "text/x-python",
   "name": "python",
   "nbconvert_exporter": "python",
   "pygments_lexer": "ipython3",
   "version": "3.9.7"
  }
 },
 "nbformat": 4,
 "nbformat_minor": 5
}
