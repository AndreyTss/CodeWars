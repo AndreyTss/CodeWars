{
 "cells": [
  {
   "cell_type": "markdown",
   "id": "88b02dd1",
   "metadata": {},
   "source": [
    "## Sum of positive\n",
    "###### `FUNDAMENTALS` `ARRAYS` `NUMBERS`"
   ]
  },
  {
   "cell_type": "markdown",
   "id": "96cb46ac",
   "metadata": {},
   "source": [
    "You get an array of numbers, return the sum of all of the positives ones."
   ]
  },
  {
   "cell_type": "markdown",
   "id": "37b89e3d",
   "metadata": {},
   "source": [
    "### Example\n",
    "\n",
    "`[1,-4,7,12] => 1 + 7 + 12 = 20`"
   ]
  },
  {
   "cell_type": "markdown",
   "id": "f91933ad",
   "metadata": {},
   "source": [
    "### Notes\n",
    "\n",
    "if there is nothing to sum, the sum is default to `0`."
   ]
  },
  {
   "cell_type": "markdown",
   "id": "f1c439f9",
   "metadata": {},
   "source": [
    "### My solution"
   ]
  },
  {
   "cell_type": "code",
   "execution_count": 7,
   "id": "8ebdb4b4",
   "metadata": {},
   "outputs": [],
   "source": [
    "def positive_sum(arr):\n",
    "    sum = 0\n",
    "    for i in range(len(arr)):\n",
    "        if arr[i] > 0: sum += arr[i] \n",
    "    return sum "
   ]
  },
  {
   "cell_type": "markdown",
   "id": "def67bde",
   "metadata": {},
   "source": [
    "### Sample Tests"
   ]
  },
  {
   "cell_type": "code",
   "execution_count": null,
   "id": "32cb8727",
   "metadata": {},
   "outputs": [],
   "source": [
    "import codewars_test as test\n",
    "from solution import positive_sum\n",
    "\n",
    "@test.describe(\"positive_sum\")\n",
    "def fixed_tests():\n",
    "    @test.it('Basic Test Cases')\n",
    "    def basic_test_cases():\n",
    "        test.assert_equals(positive_sum([1,2,3,4,5]),15)\n",
    "        test.assert_equals(positive_sum([1,-2,3,4,5]),13)\n",
    "        test.assert_equals(positive_sum([-1,2,3,4,-5]),9)\n",
    "        \n",
    "    @test.it(\"returns 0 when array is empty\")\n",
    "    def empty_case():\n",
    "        test.assert_equals(positive_sum([]),0)      \n",
    "        \n",
    "    @test.it(\"returns 0 when all elements are negative\")\n",
    "    def negative_case():\n",
    "        test.assert_equals(positive_sum([-1,-2,-3,-4,-5]),0)"
   ]
  }
 ],
 "metadata": {
  "kernelspec": {
   "display_name": "Python 3 (ipykernel)",
   "language": "python",
   "name": "python3"
  },
  "language_info": {
   "codemirror_mode": {
    "name": "ipython",
    "version": 3
   },
   "file_extension": ".py",
   "mimetype": "text/x-python",
   "name": "python",
   "nbconvert_exporter": "python",
   "pygments_lexer": "ipython3",
   "version": "3.9.7"
  }
 },
 "nbformat": 4,
 "nbformat_minor": 5
}
