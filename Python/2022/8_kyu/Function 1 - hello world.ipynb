{
 "cells": [
  {
   "cell_type": "markdown",
   "id": "88b02dd1",
   "metadata": {},
   "source": [
    "## Function 1 - hello world\n",
    "###### `FUNDAMENTALS`"
   ]
  },
  {
   "cell_type": "markdown",
   "id": "96cb46ac",
   "metadata": {},
   "source": [
    "### Description:\n",
    "Make a simple function called greet that returns the most-famous \"hello world!\".\n",
    "\n",
    "### Style Points\n",
    "Sure, this is about as easy as it gets. But how clever can you be to create the most creative hello world you can think of? What is a \"hello world\" solution you would want to show your friends?"
   ]
  },
  {
   "cell_type": "markdown",
   "id": "f1c439f9",
   "metadata": {},
   "source": [
    "### My solution"
   ]
  },
  {
   "cell_type": "code",
   "execution_count": 7,
   "id": "8ebdb4b4",
   "metadata": {},
   "outputs": [],
   "source": [
    "def greet():\n",
    "    return 'hello world!'"
   ]
  },
  {
   "cell_type": "markdown",
   "id": "def67bde",
   "metadata": {},
   "source": [
    "### Sample Tests"
   ]
  },
  {
   "cell_type": "code",
   "execution_count": null,
   "id": "32cb8727",
   "metadata": {},
   "outputs": [],
   "source": [
    "import codewars_test as test\n",
    "from solution import greet\n",
    "\n",
    "@test.describe(\"Greet function\")\n",
    "def _():\n",
    "    @test.it(\"Making sure greet exists\")\n",
    "    def _():\n",
    "        try:\n",
    "            test.expect(greet)\n",
    "        except NameError:\n",
    "            test.fail(\"Greet doesn't exist\")\n",
    "    @test.it(\"Testing that it returns hello world!\")\n",
    "    def _():\n",
    "        test.assert_equals(greet(), \"hello world!\", \"Greet doesn't return hello world!\")"
   ]
  }
 ],
 "metadata": {
  "kernelspec": {
   "display_name": "Python 3 (ipykernel)",
   "language": "python",
   "name": "python3"
  },
  "language_info": {
   "codemirror_mode": {
    "name": "ipython",
    "version": 3
   },
   "file_extension": ".py",
   "mimetype": "text/x-python",
   "name": "python",
   "nbconvert_exporter": "python",
   "pygments_lexer": "ipython3",
   "version": "3.9.7"
  }
 },
 "nbformat": 4,
 "nbformat_minor": 5
}
