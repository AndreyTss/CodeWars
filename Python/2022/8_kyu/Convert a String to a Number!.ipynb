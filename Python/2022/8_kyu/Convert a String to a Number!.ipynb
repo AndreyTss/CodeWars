{
 "cells": [
  {
   "cell_type": "markdown",
   "id": "88b02dd1",
   "metadata": {},
   "source": [
    "## Convert a String to a Number!\n",
    "###### `FUNDAMENTALS` `PARSING` `ALGORITHMS` `STRINGS`"
   ]
  },
  {
   "cell_type": "markdown",
   "id": "96cb46ac",
   "metadata": {},
   "source": [
    "We need a function that can transform a string into a number. What ways of achieving this do you know?\n",
    "\n",
    "Note: Don't worry, all inputs will be strings, and every string is a perfectly valid representation of an integral number."
   ]
  },
  {
   "cell_type": "markdown",
   "id": "37b89e3d",
   "metadata": {},
   "source": [
    "### Example\n",
    "\n",
    "`\"1234\" --> 1234`  \n",
    "`\"605\"  --> 605`  \n",
    "`\"1405\" --> 1405`  \n",
    "`\"-7\" --> -7`"
   ]
  },
  {
   "cell_type": "markdown",
   "id": "f1c439f9",
   "metadata": {},
   "source": [
    "### My solution"
   ]
  },
  {
   "cell_type": "code",
   "execution_count": 7,
   "id": "8ebdb4b4",
   "metadata": {},
   "outputs": [],
   "source": [
    "def string_to_number(s):\n",
    "    return int(s)"
   ]
  },
  {
   "cell_type": "markdown",
   "id": "def67bde",
   "metadata": {},
   "source": [
    "### Sample Tests"
   ]
  },
  {
   "cell_type": "code",
   "execution_count": null,
   "id": "32cb8727",
   "metadata": {},
   "outputs": [],
   "source": [
    "import codewars_test as test\n",
    "from solution import positive_sum\n",
    "\n",
    "@test.describe(\"positive_sum\")\n",
    "def fixed_tests():\n",
    "    @test.it('Basic Test Cases')\n",
    "    def basic_test_cases():\n",
    "        test.assert_equals(positive_sum([1,2,3,4,5]),15)\n",
    "        test.assert_equals(positive_sum([1,-2,3,4,5]),13)\n",
    "        test.assert_equals(positive_sum([-1,2,3,4,-5]),9)\n",
    "        \n",
    "    @test.it(\"returns 0 when array is empty\")\n",
    "    def empty_case():\n",
    "        test.assert_equals(positive_sum([]),0)      \n",
    "        \n",
    "    @test.it(\"returns 0 when all elements are negative\")\n",
    "    def negative_case():\n",
    "        test.assert_equals(positive_sum([-1,-2,-3,-4,-5]),0)"
   ]
  }
 ],
 "metadata": {
  "kernelspec": {
   "display_name": "Python 3 (ipykernel)",
   "language": "python",
   "name": "python3"
  },
  "language_info": {
   "codemirror_mode": {
    "name": "ipython",
    "version": 3
   },
   "file_extension": ".py",
   "mimetype": "text/x-python",
   "name": "python",
   "nbconvert_exporter": "python",
   "pygments_lexer": "ipython3",
   "version": "3.9.7"
  }
 },
 "nbformat": 4,
 "nbformat_minor": 5
}
