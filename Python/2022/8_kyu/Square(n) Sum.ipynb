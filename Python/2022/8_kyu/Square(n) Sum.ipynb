{
 "cells": [
  {
   "cell_type": "markdown",
   "id": "88b02dd1",
   "metadata": {},
   "source": [
    "## Square(n) Sum\n",
    "###### `FUNDAMENTALS` `ARITHMETIC` `MATHEMATICS` `ALGORITHMS` `NUMBERS` `ARRAYS` `LISTS` `DATA STRUCTURES`"
   ]
  },
  {
   "cell_type": "markdown",
   "id": "96cb46ac",
   "metadata": {},
   "source": [
    "Complete the square sum function so that it squares each number passed into it and then sums the results together."
   ]
  },
  {
   "cell_type": "markdown",
   "id": "2618fa38",
   "metadata": {},
   "source": [
    "### Example\n",
    "For example, for `[1, 2, 2]` it should return `9` because `1^2 + 2^2 + 2^2 = 9`."
   ]
  },
  {
   "cell_type": "markdown",
   "id": "f1c439f9",
   "metadata": {},
   "source": [
    "### My solution"
   ]
  },
  {
   "cell_type": "code",
   "execution_count": 7,
   "id": "8ebdb4b4",
   "metadata": {},
   "outputs": [],
   "source": [
    "def square_sum(numbers):\n",
    "    return sum(x ** 2 for x in numbers)"
   ]
  },
  {
   "cell_type": "markdown",
   "id": "def67bde",
   "metadata": {},
   "source": [
    "### Sample Tests"
   ]
  },
  {
   "cell_type": "code",
   "execution_count": null,
   "id": "32cb8727",
   "metadata": {},
   "outputs": [],
   "source": [
    "import codewars_test as test\n",
    "from solution import square_sum\n",
    "\n",
    "@test.describe(\"Fixed Tests\")\n",
    "def basic_tests():\n",
    "    @test.it('Basic Test Cases')\n",
    "    def basic_test_cases():\n",
    "        test.assert_equals(square_sum([1,2]), 5)\n",
    "        test.assert_equals(square_sum([0, 3, 4, 5]), 50)\n",
    "        test.assert_equals(square_sum([]), 0)\n",
    "        test.assert_equals(square_sum([-1,-2]), 5)\n",
    "        test.assert_equals(square_sum([-1,0,1]), 2)"
   ]
  }
 ],
 "metadata": {
  "kernelspec": {
   "display_name": "Python 3 (ipykernel)",
   "language": "python",
   "name": "python3"
  },
  "language_info": {
   "codemirror_mode": {
    "name": "ipython",
    "version": 3
   },
   "file_extension": ".py",
   "mimetype": "text/x-python",
   "name": "python",
   "nbconvert_exporter": "python",
   "pygments_lexer": "ipython3",
   "version": "3.9.7"
  }
 },
 "nbformat": 4,
 "nbformat_minor": 5
}
