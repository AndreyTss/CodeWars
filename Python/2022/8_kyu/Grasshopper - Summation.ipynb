{
 "cells": [
  {
   "cell_type": "markdown",
   "id": "88b02dd1",
   "metadata": {},
   "source": [
    "## Grasshopper - Summation\n",
    "###### `FUNDAMENTALS` `LOOPS` `CONTROL  FLOW` `BASIC  LANGUAGE  FEATURES`"
   ]
  },
  {
   "cell_type": "markdown",
   "id": "96cb46ac",
   "metadata": {},
   "source": [
    "Write a program that finds the summation of every number from 1 to num. The number will always be a positive integer greater than 0."
   ]
  },
  {
   "cell_type": "markdown",
   "id": "84b277e9",
   "metadata": {},
   "source": [
    "### Example\n",
    "\n",
    "`summation(2) -> 3`\n",
    "`1 + 2`\n",
    "\n",
    "`summation(8) -> 36`\n",
    "`1 + 2 + 3 + 4 + 5 + 6 + 7 + 8`"
   ]
  },
  {
   "cell_type": "markdown",
   "id": "f1c439f9",
   "metadata": {},
   "source": [
    "### My solution"
   ]
  },
  {
   "cell_type": "code",
   "execution_count": 7,
   "id": "8ebdb4b4",
   "metadata": {},
   "outputs": [],
   "source": [
    "def summation(num):\n",
    "    return sum(range(num + 1))"
   ]
  },
  {
   "cell_type": "markdown",
   "id": "def67bde",
   "metadata": {},
   "source": [
    "### Sample Tests"
   ]
  },
  {
   "cell_type": "code",
   "execution_count": null,
   "id": "32cb8727",
   "metadata": {},
   "outputs": [],
   "source": [
    "import codewars_test as test\n",
    "from solution import summation\n",
    "\n",
    "@test.describe('Fixed tests')\n",
    "def basic_tests():\n",
    "    @test.it('Basic Test Cases')\n",
    "    def basic_test_cases():\n",
    "        test.assert_equals(summation(1), 1)\n",
    "        test.assert_equals(summation(8), 36)\n",
    "        test.assert_equals(summation(22), 253)\n",
    "        test.assert_equals(summation(100), 5050)\n",
    "        test.assert_equals(summation(213), 22791)"
   ]
  }
 ],
 "metadata": {
  "kernelspec": {
   "display_name": "Python 3 (ipykernel)",
   "language": "python",
   "name": "python3"
  },
  "language_info": {
   "codemirror_mode": {
    "name": "ipython",
    "version": 3
   },
   "file_extension": ".py",
   "mimetype": "text/x-python",
   "name": "python",
   "nbconvert_exporter": "python",
   "pygments_lexer": "ipython3",
   "version": "3.9.7"
  }
 },
 "nbformat": 4,
 "nbformat_minor": 5
}
