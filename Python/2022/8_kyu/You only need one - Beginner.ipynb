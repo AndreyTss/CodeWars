{
 "cells": [
  {
   "cell_type": "markdown",
   "id": "88b02dd1",
   "metadata": {},
   "source": [
    "## You only need one - Beginner\n",
    "###### `FUNDAMENTALS` `STRINGS` `ARRAYS`"
   ]
  },
  {
   "cell_type": "markdown",
   "id": "96cb46ac",
   "metadata": {},
   "source": [
    "You will be given an array `a` and a value `x`. All you need to do is check whether the provided array contains the value.\n",
    "\n",
    "Array can contain numbers or strings. X can be either.\n",
    "\n",
    "Return `true` if the array contains the value, `false` if not."
   ]
  },
  {
   "cell_type": "markdown",
   "id": "f1c439f9",
   "metadata": {},
   "source": [
    "### My solution"
   ]
  },
  {
   "cell_type": "code",
   "execution_count": 7,
   "id": "8ebdb4b4",
   "metadata": {},
   "outputs": [],
   "source": [
    "def check(seq, elem):\n",
    "    return elem in seq"
   ]
  },
  {
   "cell_type": "markdown",
   "id": "def67bde",
   "metadata": {},
   "source": [
    "### Sample Tests"
   ]
  },
  {
   "cell_type": "code",
   "execution_count": null,
   "id": "32cb8727",
   "metadata": {},
   "outputs": [],
   "source": [
    "import codewars_test as test\n",
    "from solution import check\n",
    "\n",
    "@test.describe(\"Fixed Tests\")\n",
    "def fixed_tests():\n",
    "    @test.it('Basic Test Cases')\n",
    "    def basic_test_cases():\n",
    "        tests = [\n",
    "            (True, ([66, 101], 66)),\n",
    "            (False, ([78, 117, 110, 99, 104, 117, 107, 115], 8)),\n",
    "            (True, ([101, 45, 75, 105, 99, 107], 107)),\n",
    "            (True, ([80, 117, 115, 104, 45, 85, 112, 115], 45)),\n",
    "            (True, (['t', 'e', 's', 't'], 'e')),\n",
    "            (False, ([\"what\", \"a\", \"great\", \"kata\"], \"kat\")),\n",
    "            (True, ([66, \"codewars\", 11, \"alex loves pushups\"], \"alex loves pushups\")),\n",
    "            (False, ([\"come\", \"on\", 110, \"2500\", 10, '!', 7, 15], \"Come\")),\n",
    "            (True, ([\"when's\", \"the\", \"next\", \"Katathon?\", 9, 7], \"Katathon?\")),\n",
    "            (False, ([8, 7, 5, \"bored\", \"of\", \"writing\", \"tests\", 115], 45)),\n",
    "            (True, ([\"anyone\", \"want\", \"to\", \"hire\", \"me?\"], \"me?\")),\n",
    "        ]\n",
    "        \n",
    "        for exp, inp in tests:\n",
    "            test.assert_equals(check(*inp), exp)"
   ]
  }
 ],
 "metadata": {
  "kernelspec": {
   "display_name": "Python 3 (ipykernel)",
   "language": "python",
   "name": "python3"
  },
  "language_info": {
   "codemirror_mode": {
    "name": "ipython",
    "version": 3
   },
   "file_extension": ".py",
   "mimetype": "text/x-python",
   "name": "python",
   "nbconvert_exporter": "python",
   "pygments_lexer": "ipython3",
   "version": "3.9.7"
  }
 },
 "nbformat": 4,
 "nbformat_minor": 5
}
