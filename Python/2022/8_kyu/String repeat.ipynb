{
 "cells": [
  {
   "cell_type": "markdown",
   "id": "88b02dd1",
   "metadata": {},
   "source": [
    "## String repeat\n",
    "###### `FUNDAMENTALS`"
   ]
  },
  {
   "cell_type": "markdown",
   "id": "96cb46ac",
   "metadata": {},
   "source": [
    "Write a function called `repeatStr` which repeats the given `string` string exactly `n` times."
   ]
  },
  {
   "cell_type": "markdown",
   "id": "c9501d2c",
   "metadata": {},
   "source": [
    "### Example\n",
    "`repeatStr(6, \"I\") // \"IIIIII\"`  \n",
    "`repeatStr(5, \"Hello\") // \"HelloHelloHelloHelloHello\"`   "
   ]
  },
  {
   "cell_type": "markdown",
   "id": "f1c439f9",
   "metadata": {},
   "source": [
    "### My solution"
   ]
  },
  {
   "cell_type": "code",
   "execution_count": 7,
   "id": "8ebdb4b4",
   "metadata": {},
   "outputs": [],
   "source": [
    "def repeat_str(repeat, string):\n",
    "    return string * repeat"
   ]
  },
  {
   "cell_type": "markdown",
   "id": "def67bde",
   "metadata": {},
   "source": [
    "### Sample Tests"
   ]
  },
  {
   "cell_type": "code",
   "execution_count": null,
   "id": "32cb8727",
   "metadata": {},
   "outputs": [],
   "source": [
    "import codewars_test as test\n",
    "from solution import repeat_str\n",
    "\n",
    "@test.describe('Fixed tests')\n",
    "def basic_tests():\n",
    "    @test.it('Basic Test Cases')\n",
    "    def basic_test_cases():\n",
    "        test.assert_equals(repeat_str(4, 'a'), 'aaaa')\n",
    "        test.assert_equals(repeat_str(3, 'hello '), 'hello hello hello ')\n",
    "        test.assert_equals(repeat_str(2, 'abc'), 'abcabc')\n",
    "    \n",
    "    @test.it(\"should return True for valid pins\")\n",
    "    def _():\n",
    "        test.assert_equals(validate_pin(\"1234\"),True, \"Wrong output for '1234'\")\n",
    "        test.assert_equals(validate_pin(\"0000\"),True, \"Wrong output for '0000'\")\n",
    "        test.assert_equals(validate_pin(\"1111\"),True, \"Wrong output for '1111'\")\n",
    "        test.assert_equals(validate_pin(\"123456\"),True, \"Wrong output for '123456'\")\n",
    "        test.assert_equals(validate_pin(\"098765\"),True, \"Wrong output for '098765'\")\n",
    "        test.assert_equals(validate_pin(\"000000\"),True, \"Wrong output for '000000'\")\n",
    "        test.assert_equals(validate_pin(\"123456\"),True, \"Wrong output for '123456'\")\n",
    "        test.assert_equals(validate_pin(\"090909\"),True, \"Wrong output for '090909'\")"
   ]
  }
 ],
 "metadata": {
  "kernelspec": {
   "display_name": "Python 3 (ipykernel)",
   "language": "python",
   "name": "python3"
  },
  "language_info": {
   "codemirror_mode": {
    "name": "ipython",
    "version": 3
   },
   "file_extension": ".py",
   "mimetype": "text/x-python",
   "name": "python",
   "nbconvert_exporter": "python",
   "pygments_lexer": "ipython3",
   "version": "3.9.7"
  }
 },
 "nbformat": 4,
 "nbformat_minor": 5
}
