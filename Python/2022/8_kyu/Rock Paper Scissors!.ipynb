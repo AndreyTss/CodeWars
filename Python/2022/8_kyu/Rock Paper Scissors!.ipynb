{
 "cells": [
  {
   "cell_type": "markdown",
   "id": "88b02dd1",
   "metadata": {},
   "source": [
    "## Rock Paper Scissors!\n",
    "\n",
    "###### `FUNDAMENTALS`"
   ]
  },
  {
   "cell_type": "markdown",
   "id": "96cb46ac",
   "metadata": {},
   "source": [
    "Let's play! You have to return which player won! In case of a draw return `Draw!`.\n",
    "\n",
    "![alt rank](https://i.imgur.com/aimOQVX.png)"
   ]
  },
  {
   "cell_type": "markdown",
   "id": "37b89e3d",
   "metadata": {},
   "source": [
    "### Example"
   ]
  },
  {
   "cell_type": "code",
   "execution_count": null,
   "id": "cadcab8e",
   "metadata": {},
   "outputs": [],
   "source": [
    "rps('scissors','paper') // Player 1 won!\n",
    "rps('scissors','rock') // Player 2 won!\n",
    "rps('paper','paper') // Draw!"
   ]
  },
  {
   "cell_type": "markdown",
   "id": "f1c439f9",
   "metadata": {},
   "source": [
    "### My solution"
   ]
  },
  {
   "cell_type": "code",
   "execution_count": 7,
   "id": "8ebdb4b4",
   "metadata": {},
   "outputs": [],
   "source": [
    "def rps(p1, p2):\n",
    "    hand = {'rock':0, 'paper':1, 'scissors':2}\n",
    "    results = ['Draw!', 'Player 1 won!', 'Player 2 won!']\n",
    "    return results[hand[p1] - hand[p2]]"
   ]
  },
  {
   "cell_type": "markdown",
   "id": "def67bde",
   "metadata": {},
   "source": [
    "### Sample Tests"
   ]
  },
  {
   "cell_type": "code",
   "execution_count": null,
   "id": "32cb8727",
   "metadata": {},
   "outputs": [],
   "source": [
    "import codewars_test as test\n",
    "from solution import rps\n",
    "\n",
    "@test.describe(\"rock paper scissors\")\n",
    "def basic_tests():\n",
    "    @test.it(\"Player 1 wins\")\n",
    "    def player_1():\n",
    "        test.assert_equals(rps('rock', 'scissors'), \"Player 1 won!\")\n",
    "    @test.it(\"Player 1 wins\")\n",
    "    def player_1():\n",
    "        test.assert_equals(rps('scissors', 'rock'), \"Player 2 won!\")\n",
    "    @test.it(\"Draw\")\n",
    "    def draw():\n",
    "        test.assert_equals(rps('rock', 'rock'), 'Draw!')"
   ]
  }
 ],
 "metadata": {
  "kernelspec": {
   "display_name": "Python 3 (ipykernel)",
   "language": "python",
   "name": "python3"
  },
  "language_info": {
   "codemirror_mode": {
    "name": "ipython",
    "version": 3
   },
   "file_extension": ".py",
   "mimetype": "text/x-python",
   "name": "python",
   "nbconvert_exporter": "python",
   "pygments_lexer": "ipython3",
   "version": "3.9.7"
  }
 },
 "nbformat": 4,
 "nbformat_minor": 5
}
