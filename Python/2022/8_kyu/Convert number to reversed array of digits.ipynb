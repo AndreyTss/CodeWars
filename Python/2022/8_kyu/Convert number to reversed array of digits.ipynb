{
 "cells": [
  {
   "cell_type": "markdown",
   "id": "88b02dd1",
   "metadata": {},
   "source": [
    "## Convert number to reversed array of digits\n",
    "###### `FUNDAMENTALS` `NUMBERS` `ARRAYS`"
   ]
  },
  {
   "cell_type": "markdown",
   "id": "96cb46ac",
   "metadata": {},
   "source": [
    "Given a random non-negative number, you have to return the digits of this number within an array in reverse order."
   ]
  },
  {
   "cell_type": "markdown",
   "id": "37b89e3d",
   "metadata": {},
   "source": [
    "### Example\n",
    "\n",
    "`348597 => [7,9,5,8,4,3]\n",
    " 0 => [0]`"
   ]
  },
  {
   "cell_type": "markdown",
   "id": "f1c439f9",
   "metadata": {},
   "source": [
    "### My solution"
   ]
  },
  {
   "cell_type": "code",
   "execution_count": 7,
   "id": "8ebdb4b4",
   "metadata": {},
   "outputs": [],
   "source": [
    "def digitize(n):\n",
    "    return [int(s) for s in str(n)][::-1]"
   ]
  },
  {
   "cell_type": "markdown",
   "id": "def67bde",
   "metadata": {},
   "source": [
    "### Sample Tests"
   ]
  },
  {
   "cell_type": "code",
   "execution_count": null,
   "id": "32cb8727",
   "metadata": {},
   "outputs": [],
   "source": [
    "import codewars_test as test\n",
    "from solution import digitize\n",
    "\n",
    "@test.describe(\"Fixed Tests\")\n",
    "def basic_tests():\n",
    "    @test.it('Basic Test Cases')\n",
    "    def basic_test_cases():\n",
    "        test.assert_equals(digitize(35231),[1,3,2,5,3])\n",
    "        test.assert_equals(digitize(0),[0])\n",
    "        test.assert_equals(digitize(23582357),[7,5,3,2,8,5,3,2])\n",
    "        test.assert_equals(digitize(984764738),[8,3,7,4,6,7,4,8,9])\n",
    "        test.assert_equals(digitize(45762893920),[0,2,9,3,9,8,2,6,7,5,4])\n",
    "        test.assert_equals(digitize(548702838394),[4,9,3,8,3,8,2,0,7,8,4,5])"
   ]
  }
 ],
 "metadata": {
  "kernelspec": {
   "display_name": "Python 3 (ipykernel)",
   "language": "python",
   "name": "python3"
  },
  "language_info": {
   "codemirror_mode": {
    "name": "ipython",
    "version": 3
   },
   "file_extension": ".py",
   "mimetype": "text/x-python",
   "name": "python",
   "nbconvert_exporter": "python",
   "pygments_lexer": "ipython3",
   "version": "3.9.7"
  }
 },
 "nbformat": 4,
 "nbformat_minor": 5
}
