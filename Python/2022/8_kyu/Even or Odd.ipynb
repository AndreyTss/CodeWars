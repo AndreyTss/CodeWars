{
 "cells": [
  {
   "cell_type": "markdown",
   "id": "88b02dd1",
   "metadata": {},
   "source": [
    "## Remove String Spaces\n",
    "###### `FUNDAMENTALS` `MATHEMATICS` `ALGORITHMS` `NUMBERS`"
   ]
  },
  {
   "cell_type": "markdown",
   "id": "96cb46ac",
   "metadata": {},
   "source": [
    "Create a function that takes an integer as an argument and returns \"Even\" for even numbers or \"Odd\" for odd numbers."
   ]
  },
  {
   "cell_type": "markdown",
   "id": "f1c439f9",
   "metadata": {},
   "source": [
    "### My solution"
   ]
  },
  {
   "cell_type": "code",
   "execution_count": 7,
   "id": "8ebdb4b4",
   "metadata": {},
   "outputs": [],
   "source": [
    "def even_or_odd(number):\n",
    "    return 'Even' if number % 2 == 0 else 'Odd'"
   ]
  },
  {
   "cell_type": "markdown",
   "id": "def67bde",
   "metadata": {},
   "source": [
    "### Sample Tests"
   ]
  },
  {
   "cell_type": "code",
   "execution_count": null,
   "id": "32cb8727",
   "metadata": {},
   "outputs": [],
   "source": [
    "import codewars_test as test\n",
    "from solution import even_or_odd\n",
    "\n",
    "@test.describe(\"Fixed Tests\")\n",
    "def fixed_tests():\n",
    "    @test.it('Basic Test Cases')\n",
    "    def basic_test_cases():\n",
    "        test.assert_equals(even_or_odd(2), \"Even\")\n",
    "        test.assert_equals(even_or_odd(1), \"Odd\")\n",
    "        test.assert_equals(even_or_odd(0), \"Even\")\n",
    "        test.assert_equals(even_or_odd(1545452), \"Even\")\n",
    "        test.assert_equals(even_or_odd(7), \"Odd\")\n",
    "        test.assert_equals(even_or_odd(78), \"Even\")\n",
    "        test.assert_equals(even_or_odd(17), \"Odd\")\n",
    "        test.assert_equals(even_or_odd(74156741), \"Odd\")\n",
    "        test.assert_equals(even_or_odd(100000), \"Even\")\n",
    "        test.assert_equals(even_or_odd(-123), \"Odd\")\n",
    "        test.assert_equals(even_or_odd(-456), \"Even\")"
   ]
  }
 ],
 "metadata": {
  "kernelspec": {
   "display_name": "Python 3 (ipykernel)",
   "language": "python",
   "name": "python3"
  },
  "language_info": {
   "codemirror_mode": {
    "name": "ipython",
    "version": 3
   },
   "file_extension": ".py",
   "mimetype": "text/x-python",
   "name": "python",
   "nbconvert_exporter": "python",
   "pygments_lexer": "ipython3",
   "version": "3.9.7"
  }
 },
 "nbformat": 4,
 "nbformat_minor": 5
}
