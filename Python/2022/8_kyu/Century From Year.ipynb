{
 "cells": [
  {
   "cell_type": "markdown",
   "id": "88b02dd1",
   "metadata": {},
   "source": [
    "## Century From Year\n",
    "\n",
    "###### `FUNDAMENTALS` `MATHEMATICS` `BASIC LANGUAGE FEATURES` `LANGUAGE FEATURES` `DATES/TIME`"
   ]
  },
  {
   "cell_type": "markdown",
   "id": "96cb46ac",
   "metadata": {},
   "source": [
    "### Introduction\n",
    "The first century spans from the year 1 up to and including the year 100, the second century - from the year 101 up to and including the year 200, etc.\n",
    "\n",
    "### Task\n",
    "Given a year, return the century it is in."
   ]
  },
  {
   "cell_type": "markdown",
   "id": "16b66215",
   "metadata": {},
   "source": [
    "### Examples"
   ]
  },
  {
   "cell_type": "code",
   "execution_count": null,
   "id": "31e9ce39",
   "metadata": {},
   "outputs": [],
   "source": [
    "1705 --> 18\n",
    "1900 --> 19\n",
    "1601 --> 17\n",
    "2000 --> 20"
   ]
  },
  {
   "cell_type": "markdown",
   "id": "f1c439f9",
   "metadata": {},
   "source": [
    "### My solution"
   ]
  },
  {
   "cell_type": "code",
   "execution_count": 7,
   "id": "8ebdb4b4",
   "metadata": {},
   "outputs": [],
   "source": [
    "def century(year):\n",
    "    return (year + 99) // 100"
   ]
  },
  {
   "cell_type": "markdown",
   "id": "def67bde",
   "metadata": {},
   "source": [
    "### Sample Tests"
   ]
  },
  {
   "cell_type": "code",
   "execution_count": null,
   "id": "32cb8727",
   "metadata": {},
   "outputs": [],
   "source": [
    "import codewars_test as test\n",
    "from solution import century\n",
    "\n",
    "@test.describe(\"Fixed Tests\")\n",
    "def fixed_tests():\n",
    "    @test.it('Basic Test Cases')\n",
    "    def basic_test_cases():\n",
    "        test.assert_equals(century(1705), 18, 'Testing for year 1705')\n",
    "        test.assert_equals(century(1900), 19, 'Testing for year 1900')\n",
    "        test.assert_equals(century(1601), 17, 'Testing for year 1601')\n",
    "        test.assert_equals(century(2000), 20, 'Testing for year 2000')\n",
    "        test.assert_equals(century(356), 4, 'Testing for year 356')\n",
    "        test.assert_equals(century(89), 1, 'Testing for year 89')"
   ]
  }
 ],
 "metadata": {
  "kernelspec": {
   "display_name": "Python 3 (ipykernel)",
   "language": "python",
   "name": "python3"
  },
  "language_info": {
   "codemirror_mode": {
    "name": "ipython",
    "version": 3
   },
   "file_extension": ".py",
   "mimetype": "text/x-python",
   "name": "python",
   "nbconvert_exporter": "python",
   "pygments_lexer": "ipython3",
   "version": "3.9.7"
  }
 },
 "nbformat": 4,
 "nbformat_minor": 5
}
