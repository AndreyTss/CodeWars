{
 "cells": [
  {
   "cell_type": "markdown",
   "id": "6526243a",
   "metadata": {},
   "source": [
    "## Counting Duplicates\n",
    "###### `FUNDAMENTALS` `STRINGS`"
   ]
  },
  {
   "cell_type": "markdown",
   "id": "39dce41b",
   "metadata": {},
   "source": [
    "### Count the number of Duplicates\n",
    "Write a function that will return the count of distinct case-insensitive alphabetic characters and numeric digits that occur more than once in the input string. The input string can be assumed to contain only alphabets (both uppercase and lowercase) and numeric digits."
   ]
  },
  {
   "cell_type": "markdown",
   "id": "c45eb833",
   "metadata": {},
   "source": [
    "### Examples\n",
    "\n",
    "\"abcde\" -> 0 `# no characters repeats more than once`  \n",
    "\"aabbcde\" -> 2 `# 'a' and 'b'`  \n",
    "\"aabBcde\" -> 2 `# 'a' occurs twice and 'b' twice ('b' and 'B')`  \n",
    "\"indivisibility\" -> 1 `# 'i' occurs six times`  \n",
    "\"Indivisibilities\" -> `2 # 'i' occurs seven times and 's' occurs twice`  \n",
    "\"aA11\" -> 2 # `'a' and '1'`  \n",
    "\"ABBA\" -> 2 # `'A' and 'B' each occur twice`  "
   ]
  },
  {
   "cell_type": "markdown",
   "id": "a1dbbc55",
   "metadata": {},
   "source": [
    "### My solution"
   ]
  },
  {
   "cell_type": "code",
   "execution_count": 3,
   "id": "c430e129",
   "metadata": {},
   "outputs": [],
   "source": [
    "def duplicate_count(text):\n",
    "    t = text.lower()\n",
    "    s = set()\n",
    "    dup = set()\n",
    "    for i in t:\n",
    "        if (i in s):\n",
    "            dup.add(i);\n",
    "        s.add(i)\n",
    "    return len(dup)"
   ]
  },
  {
   "cell_type": "markdown",
   "id": "60de12d7",
   "metadata": {},
   "source": [
    "### Sample Tests"
   ]
  },
  {
   "cell_type": "code",
   "execution_count": null,
   "id": "000be37f",
   "metadata": {},
   "outputs": [],
   "source": [
    "import codewars_test as test\n",
    "from solution import duplicate_count\n",
    "\n",
    "@test.describe(\"Fixed Tests\")\n",
    "def fixed_tests():\n",
    "    @test.it(\"Basic Tests\")\n",
    "    def basic_tests():\n",
    "        test.assert_equals(duplicate_count(\"\"), 0)\n",
    "        test.assert_equals(duplicate_count(\"abcde\"), 0)\n",
    "        test.assert_equals(duplicate_count(\"abcdeaa\"), 1)\n",
    "        test.assert_equals(duplicate_count(\"abcdeaB\"), 2)\n",
    "        test.assert_equals(duplicate_count(\"Indivisibilities\"), 2)"
   ]
  }
 ],
 "metadata": {
  "kernelspec": {
   "display_name": "Python 3 (ipykernel)",
   "language": "python",
   "name": "python3"
  },
  "language_info": {
   "codemirror_mode": {
    "name": "ipython",
    "version": 3
   },
   "file_extension": ".py",
   "mimetype": "text/x-python",
   "name": "python",
   "nbconvert_exporter": "python",
   "pygments_lexer": "ipython3",
   "version": "3.9.7"
  }
 },
 "nbformat": 4,
 "nbformat_minor": 5
}
