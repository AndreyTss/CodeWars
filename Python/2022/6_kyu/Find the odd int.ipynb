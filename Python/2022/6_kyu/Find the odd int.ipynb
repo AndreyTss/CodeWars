{
 "cells": [
  {
   "cell_type": "markdown",
   "id": "6526243a",
   "metadata": {},
   "source": [
    "## Find the odd int\n",
    "###### `FUNDAMENTALS`"
   ]
  },
  {
   "cell_type": "markdown",
   "id": "39dce41b",
   "metadata": {},
   "source": [
    "Given an array of integers, find the one that appears an odd number of times.\n",
    "\n",
    "There will always be only one integer that appears an odd number of times."
   ]
  },
  {
   "cell_type": "markdown",
   "id": "c45eb833",
   "metadata": {},
   "source": [
    "### Examples\n",
    "\n",
    "`[7]` should return `7`, because it occurs 1 time (which is odd).\n",
    "`[0]` should return `0`, because it occurs 1 time (which is odd).\n",
    "`[1,1,2]` should return `2`, because it occurs 1 time (which is odd).\n",
    "`[0,1,0,1,0]` should return `0`, because it occurs 3 times (which is odd).\n",
    "`[1,2,2,3,3,3,4,3,3,3,2,2,1]` should return `4`, because it appears 1 time (which is odd)."
   ]
  },
  {
   "cell_type": "markdown",
   "id": "a1dbbc55",
   "metadata": {},
   "source": [
    "### My solution"
   ]
  },
  {
   "cell_type": "code",
   "execution_count": 3,
   "id": "c430e129",
   "metadata": {},
   "outputs": [],
   "source": [
    "def find_it(seq):\n",
    "\n",
    "    for i in set(seq):\n",
    "        if seq.count(i) % 2:\n",
    "            return i"
   ]
  },
  {
   "cell_type": "markdown",
   "id": "60de12d7",
   "metadata": {},
   "source": [
    "### Sample Tests"
   ]
  },
  {
   "cell_type": "code",
   "execution_count": null,
   "id": "000be37f",
   "metadata": {},
   "outputs": [],
   "source": [
    "import codewars_test as test\n",
    "from solution import find_it\n",
    "\n",
    "@test.describe(\"Sample tests\")\n",
    "def sample_tests():\n",
    "    \n",
    "    @test.it(\"find_it([20,1,-1,2,-2,3,3,5,5,1,2,4,20,4,-1,-2,5]) should return 5 (because it appears 3 times)\")\n",
    "    def _():\n",
    "        test.assert_equals(find_it([20,1,-1,2,-2,3,3,5,5,1,2,4,20,4,-1,-2,5]), 5)\n",
    "        \n",
    "    @test.it(\"find_it([1,1,2,-2,5,2,4,4,-1,-2,5]) should return -1 (because it appears 1 time)\")\n",
    "    def _():\n",
    "        test.assert_equals(find_it([1,1,2,-2,5,2,4,4,-1,-2,5]), -1);\n",
    "        \n",
    "    @test.it(\"find_it([20,1,1,2,2,3,3,5,5,4,20,4,5]) should return 5 (because it appears 3 times)\")\n",
    "    def _():\n",
    "        test.assert_equals(find_it([20,1,1,2,2,3,3,5,5,4,20,4,5]), 5);\n",
    "        \n",
    "    @test.it(\"find_it([10]) should return 10 (because it appears 1 time)\")\n",
    "    def _():\n",
    "        test.assert_equals(find_it([10]), 10);\n",
    "\n",
    "    @test.it(\"find_it([10, 10, 10]) should return 10 (because it appears 3 times)\")\n",
    "    def _():\n",
    "        test.assert_equals(find_it([10, 10, 10]), 10);        \n",
    "        \n",
    "    @test.it(\"find_it([1,1,1,1,1,1,10,1,1,1,1]) should return 10 (because it appears 1 time)\")\n",
    "    def _():\n",
    "        test.assert_equals(find_it([1,1,1,1,1,1,10,1,1,1,1]), 10);\n",
    "\n",
    "    @test.it(\"find_it([5,4,3,2,1,5,4,3,2,10,10]) should return 1 (because it appears 1 time)\")\n",
    "    def _():\n",
    "        test.assert_equals(find_it([5,4,3,2,1,5,4,3,2,10,10]), 1);"
   ]
  }
 ],
 "metadata": {
  "kernelspec": {
   "display_name": "Python 3 (ipykernel)",
   "language": "python",
   "name": "python3"
  },
  "language_info": {
   "codemirror_mode": {
    "name": "ipython",
    "version": 3
   },
   "file_extension": ".py",
   "mimetype": "text/x-python",
   "name": "python",
   "nbconvert_exporter": "python",
   "pygments_lexer": "ipython3",
   "version": "3.9.7"
  }
 },
 "nbformat": 4,
 "nbformat_minor": 5
}
