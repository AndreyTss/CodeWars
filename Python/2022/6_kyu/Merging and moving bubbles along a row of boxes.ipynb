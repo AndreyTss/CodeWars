{
 "cells": [
  {
   "cell_type": "markdown",
   "id": "6526243a",
   "metadata": {},
   "source": [
    "## Merging and moving bubbles along a row of boxes\n",
    "###### `FUNDAMENTALS` `ALGORITHMS` `PUZZLES` `GAMES` `MATHEMATICS` `NUMBERS`"
   ]
  },
  {
   "cell_type": "markdown",
   "id": "39dce41b",
   "metadata": {},
   "source": [
    "### Overview\n",
    "Start with a row of empty boxes, and place `n` bubbles in the left-most box in the row. You may assume there are infinitely many boxes to the right.\n",
    "\n",
    "At each step, you must pick any box with 2 or more bubbles currently inside it, ***merge 2 of the available bubbles in that box*** to form a new bubble (thereby reducing the total number of bubbles in the entire row by 1), then you must immediately ***move the new bubble rightwards*** into the ***immediate next neighbour*** box to the right.\n",
    "\n",
    "You must continue doing this until you reach the final state in which you cannot merge any more bubbles; i.e. reach the state in which all boxes have ***at most one*** bubble in them.\n",
    "\n",
    "For a given value of `n` initial bubbles placed in the left-most box in the row, ***what is the number of steps required to reach the final state?***\n",
    "\n",
    ">Hint: In case you are wondering why we can ask for ***the*** number of steps, and the final state, regardless of how you choose your steps: the number of steps for a given value of `n` will always be the same no matter how you choose your steps - see the Walk-through Example below"
   ]
  },
  {
   "cell_type": "markdown",
   "id": "c5ec7f30",
   "metadata": {},
   "source": [
    "### Inputs\n",
    "You will be given an `integer`, `n`, representing the number of bubbles, which are all placed initially in the left-most box.\n",
    "\n",
    "Performance requirement: You will be tested on values of `n` up to `200,000,000`.\n",
    "\n",
    "### Outputs\n",
    "Return an `integer`, representing the number of steps required to reach the final state."
   ]
  },
  {
   "cell_type": "markdown",
   "id": "c45eb833",
   "metadata": {},
   "source": [
    "### Walk-through Examples"
   ]
  },
  {
   "cell_type": "code",
   "execution_count": null,
   "id": "40b01b8e",
   "metadata": {},
   "outputs": [],
   "source": [
    "n = 10 bubbles\n",
    "\n",
    "10 _ _ _ _\n",
    "8 1 _ _ _\n",
    "6 2 _ _ _ "
   ]
  },
  {
   "cell_type": "markdown",
   "id": "e4b94ca4",
   "metadata": {},
   "source": [
    "Note here that you can choose to either form `4 3 _ _ _` or `6 _ 1 _ _ _` let's pick the latter for this example:"
   ]
  },
  {
   "cell_type": "code",
   "execution_count": null,
   "id": "d1e7d612",
   "metadata": {},
   "outputs": [],
   "source": [
    "6 _ 1 _ _\n",
    "4 1 1 _ _\n",
    "2 2 1 _ _"
   ]
  },
  {
   "cell_type": "markdown",
   "id": "e5d00e35",
   "metadata": {},
   "source": [
    "Note here again that you can choose to either form `_ 3 1 _ _` or `2 _ 2 _ _` let's pick the former for this example:"
   ]
  },
  {
   "cell_type": "code",
   "execution_count": null,
   "id": "9f801686",
   "metadata": {},
   "outputs": [],
   "source": [
    "_ 3 1 _ _\n",
    "_ 1 2 _ _\n",
    "_ 1 _ 1 _ #final state"
   ]
  },
  {
   "cell_type": "markdown",
   "id": "b82fbfbd",
   "metadata": {},
   "source": [
    "In this example we reached the valid final state - where all boxes contain at most one bubble - in `8` steps.\n",
    "\n",
    "You can see in the above example that there may be more than one allowed move at any given step; for example, what if we had picked option `4 3 _ _ _` on the 2nd step?"
   ]
  },
  {
   "cell_type": "code",
   "execution_count": null,
   "id": "b6760182",
   "metadata": {},
   "outputs": [],
   "source": [
    "n = 10 bubbles, alternative choices\n",
    "\n",
    "10 _ _ _ _\n",
    "8 1 _ _ _\n",
    "6 2 _ _ _\n",
    "4 3 _ _ _ "
   ]
  },
  {
   "cell_type": "markdown",
   "id": "396566fe",
   "metadata": {},
   "source": [
    "Here again there are multiple possible legal choices, let's pick one:\n"
   ]
  },
  {
   "cell_type": "code",
   "execution_count": null,
   "id": "d4c87b76",
   "metadata": {},
   "outputs": [],
   "source": [
    "2 4 _ _ _"
   ]
  },
  {
   "cell_type": "markdown",
   "id": "6c8837dc",
   "metadata": {},
   "source": [
    "Again, multiple possible legal choices, let's pick one:"
   ]
  },
  {
   "cell_type": "code",
   "execution_count": null,
   "id": "99f6f9b8",
   "metadata": {},
   "outputs": [],
   "source": [
    "_ 5 _ _ _\n",
    "_ 3 1 _ _\n",
    "_ 1 2 _ _\n",
    "_ 1 _ 1 _ #final state"
   ]
  },
  {
   "cell_type": "markdown",
   "id": "ce3c81f4",
   "metadata": {},
   "source": [
    "Note how, with these alternative choices, we have reached the same final state as in previous example ***and in the exact same number of steps = 8*** as in previous example."
   ]
  },
  {
   "cell_type": "markdown",
   "id": "a1dbbc55",
   "metadata": {},
   "source": [
    "### My solution"
   ]
  },
  {
   "cell_type": "code",
   "execution_count": 3,
   "id": "c430e129",
   "metadata": {},
   "outputs": [],
   "source": [
    "def moving_bubbles(n):\n",
    "    if n == 1 or not n:\n",
    "        return 0\n",
    "    else:\n",
    "        return (n // 2) + moving_bubbles(n // 2)"
   ]
  },
  {
   "cell_type": "markdown",
   "id": "60de12d7",
   "metadata": {},
   "source": [
    "### Sample Tests"
   ]
  },
  {
   "cell_type": "code",
   "execution_count": null,
   "id": "000be37f",
   "metadata": {},
   "outputs": [],
   "source": [
    "from solution import moving_bubbles\n",
    "import codewars_test as test\n",
    "\n",
    "@test.describe(\"Fixed tests\")\n",
    "def tests():\n",
    "    \n",
    "    @test.it(\"Should obtain correct number of steps required to reach final state for n = 2, 10 initial bubbles\")\n",
    "    def test_n_small_numbers():\n",
    "        test.assert_equals(moving_bubbles(2), 1, 'Returned number of steps required to reach final state for n = 2 initial bubbles is incorrect')\n",
    "        test.assert_equals(moving_bubbles(10), 8, 'Returned number of steps required to reach final state for n = 10 initial bubbles is incorrect')"
   ]
  }
 ],
 "metadata": {
  "kernelspec": {
   "display_name": "Python 3 (ipykernel)",
   "language": "python",
   "name": "python3"
  },
  "language_info": {
   "codemirror_mode": {
    "name": "ipython",
    "version": 3
   },
   "file_extension": ".py",
   "mimetype": "text/x-python",
   "name": "python",
   "nbconvert_exporter": "python",
   "pygments_lexer": "ipython3",
   "version": "3.9.7"
  }
 },
 "nbformat": 4,
 "nbformat_minor": 5
}
