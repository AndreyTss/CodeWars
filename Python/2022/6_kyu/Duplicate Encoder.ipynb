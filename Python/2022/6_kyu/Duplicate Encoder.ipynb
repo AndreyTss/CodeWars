{
 "cells": [
  {
   "cell_type": "markdown",
   "id": "6526243a",
   "metadata": {},
   "source": [
    "## Duplicate Encoder\n",
    "###### `FUNDAMENTALS` `STRINGS` `ARRAYS`"
   ]
  },
  {
   "cell_type": "markdown",
   "id": "39dce41b",
   "metadata": {},
   "source": [
    "The goal of this exercise is to convert a string to a new string where each character in the new string is `\"(\"` if that character appears only once in the original string, or `\")\"` if that character appears more than once in the original string. Ignore capitalization when determining if a character is a duplicate."
   ]
  },
  {
   "cell_type": "markdown",
   "id": "c45eb833",
   "metadata": {},
   "source": [
    "### Examples"
   ]
  },
  {
   "cell_type": "code",
   "execution_count": null,
   "id": "1d2a2174",
   "metadata": {},
   "outputs": [],
   "source": [
    "\"din\"      =>  \"(((\"\n",
    "\"recede\"   =>  \"()()()\"\n",
    "\"Success\"  =>  \")())())\"\n",
    "\"(( @\"     =>  \"))((\" "
   ]
  },
  {
   "cell_type": "markdown",
   "id": "ee7d2c82",
   "metadata": {},
   "source": [
    "### Notes\n",
    "Assertion messages may be unclear about what they display in some languages. If you read `\"...It Should encode XXX\"`, the `\"XXX\"` is the expected result, not the input!"
   ]
  },
  {
   "cell_type": "markdown",
   "id": "a1dbbc55",
   "metadata": {},
   "source": [
    "### My solution"
   ]
  },
  {
   "cell_type": "code",
   "execution_count": 3,
   "id": "c430e129",
   "metadata": {},
   "outputs": [],
   "source": [
    "def duplicate_encode(word):\n",
    "    last = word.lower()\n",
    "    final = ''\n",
    "    for i in last:\n",
    "        if last.count(i) == 1:\n",
    "            final += \"(\"\n",
    "        else:\n",
    "            final += \")\"\n",
    "    print(final)\n",
    "    return final\n"
   ]
  },
  {
   "cell_type": "markdown",
   "id": "60de12d7",
   "metadata": {},
   "source": [
    "### Sample Tests"
   ]
  },
  {
   "cell_type": "code",
   "execution_count": null,
   "id": "000be37f",
   "metadata": {},
   "outputs": [],
   "source": [
    "import codewars_test as test\n",
    "from solution import duplicate_encode\n",
    "\n",
    "@test.describe(\"Duplicate Encoder\")\n",
    "def fixed_tests():\n",
    "    @test.it('Basic Test Cases')\n",
    "    def basic_test_cases():\n",
    "        test.assert_equals(duplicate_encode(\"din\"),\"(((\")\n",
    "        test.assert_equals(duplicate_encode(\"recede\"),\"()()()\")\n",
    "        test.assert_equals(duplicate_encode(\"Success\"),\")())())\",\"should ignore case\")\n",
    "        test.assert_equals(duplicate_encode(\"(( @\"),\"))((\")"
   ]
  }
 ],
 "metadata": {
  "kernelspec": {
   "display_name": "Python 3 (ipykernel)",
   "language": "python",
   "name": "python3"
  },
  "language_info": {
   "codemirror_mode": {
    "name": "ipython",
    "version": 3
   },
   "file_extension": ".py",
   "mimetype": "text/x-python",
   "name": "python",
   "nbconvert_exporter": "python",
   "pygments_lexer": "ipython3",
   "version": "3.9.7"
  }
 },
 "nbformat": 4,
 "nbformat_minor": 5
}
