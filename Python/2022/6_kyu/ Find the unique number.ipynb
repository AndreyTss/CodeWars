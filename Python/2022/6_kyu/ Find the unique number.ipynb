{
 "cells": [
  {
   "cell_type": "markdown",
   "id": "6526243a",
   "metadata": {},
   "source": [
    "## Find the unique number\n",
    "###### `FUNDAMENTALS` `ALGORITHMS` `NUMBERS` `ARRAYS`"
   ]
  },
  {
   "cell_type": "markdown",
   "id": "39dce41b",
   "metadata": {},
   "source": [
    "There is an array with some numbers. All numbers are equal except for one. Try to find it!\n",
    "\n",
    "It’s guaranteed that array contains at least 3 numbers.\n",
    "\n",
    "The tests contain some very huge arrays, so think about performance."
   ]
  },
  {
   "cell_type": "markdown",
   "id": "c45eb833",
   "metadata": {},
   "source": [
    "### Examples"
   ]
  },
  {
   "cell_type": "markdown",
   "id": "10b276c3",
   "metadata": {},
   "source": [
    "`find_uniq([ 1, 1, 1, 2, 1, 1 ]) == 2`  \n",
    "`find_uniq([ 0, 0, 0.55, 0, 0 ]) == 0.55`  "
   ]
  },
  {
   "cell_type": "markdown",
   "id": "a1dbbc55",
   "metadata": {},
   "source": [
    "### My solution"
   ]
  },
  {
   "cell_type": "code",
   "execution_count": 3,
   "id": "c430e129",
   "metadata": {},
   "outputs": [],
   "source": [
    "def find_uniq(arr):\n",
    "    return sorted(arr)[-1] if sorted(arr)[0] == sorted(arr)[1] else sorted(arr)[0]"
   ]
  },
  {
   "cell_type": "markdown",
   "id": "60de12d7",
   "metadata": {},
   "source": [
    "### Sample Tests"
   ]
  },
  {
   "cell_type": "code",
   "execution_count": null,
   "id": "000be37f",
   "metadata": {},
   "outputs": [],
   "source": [
    "try:\n",
    "    import codewars_test as test\n",
    "except:\n",
    "    pass\n",
    "\n",
    "\n",
    "@test.describe(\"Basic Tests\")\n",
    "def f():\n",
    "    @test.it(\"Simple tests\")\n",
    "    def _():\n",
    "        test.assert_equals(find_uniq([ 1, 1, 1, 2, 1, 1 ]), 2)\n",
    "        test.assert_equals(find_uniq([ 0, 0, 0.55, 0, 0 ]), 0.55)\n",
    "        test.assert_equals(find_uniq([ 3, 10, 3, 3, 3 ]), 10)"
   ]
  }
 ],
 "metadata": {
  "kernelspec": {
   "display_name": "Python 3 (ipykernel)",
   "language": "python",
   "name": "python3"
  },
  "language_info": {
   "codemirror_mode": {
    "name": "ipython",
    "version": 3
   },
   "file_extension": ".py",
   "mimetype": "text/x-python",
   "name": "python",
   "nbconvert_exporter": "python",
   "pygments_lexer": "ipython3",
   "version": "3.9.7"
  }
 },
 "nbformat": 4,
 "nbformat_minor": 5
}
