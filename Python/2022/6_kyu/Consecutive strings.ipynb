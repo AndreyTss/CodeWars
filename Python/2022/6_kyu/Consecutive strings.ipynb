{
 "cells": [
  {
   "cell_type": "markdown",
   "id": "6526243a",
   "metadata": {},
   "source": [
    "## Consecutive strings\n",
    "###### `FUNDAMENTALS`"
   ]
  },
  {
   "cell_type": "markdown",
   "id": "39dce41b",
   "metadata": {},
   "source": [
    "You are given an array(list) `strarr` of strings and an integer `k`. Your task is to return the first longest string consisting of k consecutive strings taken in the array."
   ]
  },
  {
   "cell_type": "markdown",
   "id": "c45eb833",
   "metadata": {},
   "source": [
    "### Examples"
   ]
  },
  {
   "cell_type": "code",
   "execution_count": null,
   "id": "72c684ff",
   "metadata": {},
   "outputs": [],
   "source": [
    "strarr = [\"tree\", \"foling\", \"trashy\", \"blue\", \"abcdef\", \"uvwxyz\"], k = 2\n",
    "\n",
    "Concatenate the consecutive strings of strarr by 2, we get:\n",
    "\n",
    "treefoling   (length 10)  concatenation of strarr[0] and strarr[1]\n",
    "folingtrashy (\"      12)  concatenation of strarr[1] and strarr[2]\n",
    "trashyblue   (\"      10)  concatenation of strarr[2] and strarr[3]\n",
    "blueabcdef   (\"      10)  concatenation of strarr[3] and strarr[4]\n",
    "abcdefuvwxyz (\"      12)  concatenation of strarr[4] and strarr[5]\n",
    "\n",
    "Two strings are the longest: \"folingtrashy\" and \"abcdefuvwxyz\".\n",
    "The first that came is \"folingtrashy\" so \n",
    "longest_consec(strarr, 2) should return \"folingtrashy\".\n",
    "\n",
    "In the same way:\n",
    "longest_consec([\"zone\", \"abigail\", \"theta\", \"form\", \"libe\", \"zas\", \"theta\", \"abigail\"], 2) --> \"abigailtheta\""
   ]
  },
  {
   "cell_type": "markdown",
   "id": "5e12acbb",
   "metadata": {},
   "source": [
    "n being the length of the string array, if `n = 0` or `k > n` or `k <= 0` return \"\" (return `Nothing` in Elm)."
   ]
  },
  {
   "cell_type": "markdown",
   "id": "f508f158",
   "metadata": {},
   "source": [
    "### Note \n",
    "consecutive strings : follow one after another without an interruption"
   ]
  },
  {
   "cell_type": "markdown",
   "id": "a1dbbc55",
   "metadata": {},
   "source": [
    "### My solution"
   ]
  },
  {
   "cell_type": "code",
   "execution_count": 3,
   "id": "c430e129",
   "metadata": {},
   "outputs": [],
   "source": [
    "def longest_consec(strarr, k):\n",
    "    print(strarr)\n",
    "    fin = ''\n",
    "    for i in range(len(strarr) - k + 1):\n",
    "        flag = ''\n",
    "        for l in range(k):\n",
    "            flag += strarr[i + l]\n",
    "        if len(fin) < len(flag):\n",
    "            fin = flag\n",
    "        \n",
    "    return fin"
   ]
  },
  {
   "cell_type": "markdown",
   "id": "60de12d7",
   "metadata": {},
   "source": [
    "### Sample Tests"
   ]
  },
  {
   "cell_type": "code",
   "execution_count": null,
   "id": "000be37f",
   "metadata": {},
   "outputs": [],
   "source": [
    "def testing(actual, expected):\n",
    "    test.assert_equals(actual, expected)\n",
    "\n",
    "test.describe(\"longest_consec\")\n",
    "test.it(\"Basic tests\")\n",
    "testing(longest_consec([\"zone\", \"abigail\", \"theta\", \"form\", \"libe\", \"zas\"], 2), \"abigailtheta\")\n",
    "testing(longest_consec([\"ejjjjmmtthh\", \"zxxuueeg\", \"aanlljrrrxx\", \"dqqqaaabbb\", \"oocccffuucccjjjkkkjyyyeehh\"], 1), \"oocccffuucccjjjkkkjyyyeehh\")\n",
    "testing(longest_consec([], 3), \"\")\n",
    "testing(longest_consec([\"itvayloxrp\",\"wkppqsztdkmvcuwvereiupccauycnjutlv\",\"vweqilsfytihvrzlaodfixoyxvyuyvgpck\"], 2), \"wkppqsztdkmvcuwvereiupccauycnjutlvvweqilsfytihvrzlaodfixoyxvyuyvgpck\")\n",
    "testing(longest_consec([\"wlwsasphmxx\",\"owiaxujylentrklctozmymu\",\"wpgozvxxiu\"], 2), \"wlwsasphmxxowiaxujylentrklctozmymu\")\n",
    "testing(longest_consec([\"zone\", \"abigail\", \"theta\", \"form\", \"libe\", \"zas\"], -2), \"\")\n",
    "testing(longest_consec([\"it\",\"wkppv\",\"ixoyx\", \"3452\", \"zzzzzzzzzzzz\"], 3), \"ixoyx3452zzzzzzzzzzzz\")\n",
    "testing(longest_consec([\"it\",\"wkppv\",\"ixoyx\", \"3452\", \"zzzzzzzzzzzz\"], 15), \"\")\n",
    "testing(longest_consec([\"it\",\"wkppv\",\"ixoyx\", \"3452\", \"zzzzzzzzzzzz\"], 0), \"\")"
   ]
  }
 ],
 "metadata": {
  "kernelspec": {
   "display_name": "Python 3 (ipykernel)",
   "language": "python",
   "name": "python3"
  },
  "language_info": {
   "codemirror_mode": {
    "name": "ipython",
    "version": 3
   },
   "file_extension": ".py",
   "mimetype": "text/x-python",
   "name": "python",
   "nbconvert_exporter": "python",
   "pygments_lexer": "ipython3",
   "version": "3.9.7"
  }
 },
 "nbformat": 4,
 "nbformat_minor": 5
}
