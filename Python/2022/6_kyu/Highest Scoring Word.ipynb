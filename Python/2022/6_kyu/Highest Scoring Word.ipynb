{
 "cells": [
  {
   "cell_type": "markdown",
   "id": "6526243a",
   "metadata": {},
   "source": [
    "## Highest Scoring Word\n",
    "\n",
    "###### `FUNDAMENTALS` `FUNDAMENTALS` `STRINGS` `ARRAYS`"
   ]
  },
  {
   "cell_type": "markdown",
   "id": "39dce41b",
   "metadata": {},
   "source": [
    "Given a string of words, you need to find the highest scoring word.\n",
    "\n",
    "Each letter of a word scores points according to its position in the alphabet: `a = 1, b = 2, c = 3` etc.\n",
    "\n",
    "You need to return the highest scoring word as a string.\n",
    "\n",
    "If two words score the same, return the word that appears earliest in the original string.\n",
    "\n",
    "All letters will be lowercase and all inputs will be valid."
   ]
  },
  {
   "cell_type": "markdown",
   "id": "a1dbbc55",
   "metadata": {},
   "source": [
    "### My solution"
   ]
  },
  {
   "cell_type": "code",
   "execution_count": 3,
   "id": "c430e129",
   "metadata": {},
   "outputs": [],
   "source": [
    "def high(x):\n",
    "    return max(x.split(), key=lambda k: sum(ord(c) - 96 for c in k))"
   ]
  },
  {
   "cell_type": "markdown",
   "id": "60de12d7",
   "metadata": {},
   "source": [
    "### Sample Tests"
   ]
  },
  {
   "cell_type": "code",
   "execution_count": null,
   "id": "000be37f",
   "metadata": {},
   "outputs": [],
   "source": [
    "import codewars_test as test\n",
    "from solution import high\n",
    "\n",
    "@test.describe(\"Fixed Tests\")\n",
    "def fixed_tests():\n",
    "    @test.it('Basic Test Cases')\n",
    "    def basic_test_cases():\n",
    "        test.assert_equals(high('man i need a taxi up to ubud'), 'taxi')\n",
    "        test.assert_equals(high('what time are we climbing up the volcano'), 'volcano')\n",
    "        test.assert_equals(high('take me to semynak'), 'semynak')\n",
    "        test.assert_equals(high('aa b'), 'aa')\n",
    "        test.assert_equals(high('b aa'), 'b')\n",
    "        test.assert_equals(high('bb d'), 'bb')\n",
    "        test.assert_equals(high('d bb'), 'd')\n",
    "        test.assert_equals(high(\"aaa b\"), \"aaa\")"
   ]
  }
 ],
 "metadata": {
  "kernelspec": {
   "display_name": "Python 3 (ipykernel)",
   "language": "python",
   "name": "python3"
  },
  "language_info": {
   "codemirror_mode": {
    "name": "ipython",
    "version": 3
   },
   "file_extension": ".py",
   "mimetype": "text/x-python",
   "name": "python",
   "nbconvert_exporter": "python",
   "pygments_lexer": "ipython3",
   "version": "3.9.7"
  }
 },
 "nbformat": 4,
 "nbformat_minor": 5
}
