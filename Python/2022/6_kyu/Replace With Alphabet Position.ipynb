{
 "cells": [
  {
   "cell_type": "markdown",
   "id": "6526243a",
   "metadata": {},
   "source": [
    "## Replace With Alphabet Position\n",
    "###### `FUNDAMENTALS` `STRINGS`"
   ]
  },
  {
   "cell_type": "markdown",
   "id": "39dce41b",
   "metadata": {},
   "source": [
    "Welcome.\n",
    "\n",
    "In this kata you are required to, given a string, replace every letter with its position in the alphabet.\n",
    "\n",
    "If anything in the text isn't a letter, ignore it and don't return it.\n",
    "\n",
    "` \"a\" = 1` , ` \"b\" = 2` , etc."
   ]
  },
  {
   "cell_type": "markdown",
   "id": "c45eb833",
   "metadata": {},
   "source": [
    "### Examples"
   ]
  },
  {
   "cell_type": "markdown",
   "id": "10b276c3",
   "metadata": {},
   "source": [
    "`alphabet_position(\"The sunset sets at twelve o' clock.\")`  \n",
    "\n",
    "Should return `\"20 8 5 19 21 14 19 5 20 19 5 20 19 1 20 20 23 5 12 22 5 15 3 12 15 3 11\"` ( as a string )"
   ]
  },
  {
   "cell_type": "markdown",
   "id": "a1dbbc55",
   "metadata": {},
   "source": [
    "### My solution"
   ]
  },
  {
   "cell_type": "code",
   "execution_count": 3,
   "id": "c430e129",
   "metadata": {},
   "outputs": [],
   "source": [
    "def alphabet_position(text):\n",
    "    fin = ''\n",
    "    alf = 'abcdefghijklmnopqrstuvwxyz'\n",
    "    for i in text.lower():\n",
    "        if i in alf:\n",
    "            fin += str(alf.index(i) + 1)\n",
    "            fin += ' '\n",
    "    fin = fin.strip()\n",
    "    print(fin)\n",
    "    return fin"
   ]
  },
  {
   "cell_type": "markdown",
   "id": "60de12d7",
   "metadata": {},
   "source": [
    "### Sample Tests"
   ]
  },
  {
   "cell_type": "code",
   "execution_count": null,
   "id": "000be37f",
   "metadata": {},
   "outputs": [],
   "source": [
    "from random import randint\n",
    "test.assert_equals(alphabet_position(\"The sunset sets at twelve o' clock.\"), \"20 8 5 19 21 14 19 5 20 19 5 20 19 1 20 20 23 5 12 22 5 15 3 12 15 3 11\")\n",
    "test.assert_equals(alphabet_position(\"The narwhal bacons at midnight.\"), \"20 8 5 14 1 18 23 8 1 12 2 1 3 15 14 19 1 20 13 9 4 14 9 7 8 20\")\n",
    "\n",
    "number_test = \"\"\n",
    "for item in range(10):\n",
    "    number_test += str(randint(1, 9))\n",
    "test.assert_equals(alphabet_position(number_test), \"\")"
   ]
  }
 ],
 "metadata": {
  "kernelspec": {
   "display_name": "Python 3 (ipykernel)",
   "language": "python",
   "name": "python3"
  },
  "language_info": {
   "codemirror_mode": {
    "name": "ipython",
    "version": 3
   },
   "file_extension": ".py",
   "mimetype": "text/x-python",
   "name": "python",
   "nbconvert_exporter": "python",
   "pygments_lexer": "ipython3",
   "version": "3.9.7"
  }
 },
 "nbformat": 4,
 "nbformat_minor": 5
}
