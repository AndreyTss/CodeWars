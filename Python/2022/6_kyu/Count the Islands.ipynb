{
 "cells": [
  {
   "cell_type": "markdown",
   "id": "6526243a",
   "metadata": {},
   "source": [
    "## Count the Islands\n",
    "###### `ALGORITHMS` `GRAPHICS` `ARRAYS`"
   ]
  },
  {
   "cell_type": "markdown",
   "id": "39dce41b",
   "metadata": {},
   "source": [
    "### Summary\n",
    "Implement an algorithm which analyzes a two-color image and determines how many isolated areas of a single color the image contains.\n",
    "\n",
    "### Islands\n",
    "An \"island\" is a set of adjacent pixels of one color (`1`) which is surrounded by pixels of a different color (`0`). Pixels are considered adjacent if their coordinates differ by no more than `1` on the `X` or `Y` axis.\n",
    "\n",
    "Below you can see an example with 2 islands:\n",
    "\n",
    "+ on the left in the form of a matrix of `1`'s and `0`'s\n",
    "+ on the right in an equivalent stringified form using `\"X\"` and `\"~\"` characters for better readability\n"
   ]
  },
  {
   "cell_type": "code",
   "execution_count": null,
   "id": "1e72730e",
   "metadata": {},
   "outputs": [],
   "source": [
    "[\n",
    "  [0,0,0,0,0,0,0,0,0,0],          \"~~~~~~~~~~\"\n",
    "  [0,0,1,1,0,0,0,0,0,0],          \"~~XX~~~~~~\"\n",
    "  [0,0,1,1,0,0,0,0,0,0],          \"~~XX~~~~~~\"\n",
    "  [0,0,0,0,0,0,0,0,1,0],          \"~~~~~~~~X~\"\n",
    "  [0,0,0,0,0,1,1,1,0,0],          \"~~~~~XXX~~\"\n",
    "  [0,0,0,0,0,0,0,0,0,0],          \"~~~~~~~~~~\"\n",
    "]"
   ]
  },
  {
   "cell_type": "markdown",
   "id": "c45eb833",
   "metadata": {},
   "source": [
    "### Specification\n",
    "Your task is to implement a function which accepts a matrix containing the numbers `0` and `1`. It should return the number of islands as an integer."
   ]
  },
  {
   "cell_type": "markdown",
   "id": "a1dbbc55",
   "metadata": {},
   "source": [
    "### My solution"
   ]
  },
  {
   "cell_type": "code",
   "execution_count": 3,
   "id": "c430e129",
   "metadata": {},
   "outputs": [],
   "source": [
    "def count_islands(grid):\n",
    "    col = 0\n",
    "    for i in range(len(grid)):\n",
    "        for j in range(len(grid[i])):\n",
    "            if grid[i][j] == 1:\n",
    "                island(grid, i, j)\n",
    "                col += 1\n",
    "    return col\n",
    "                    \n",
    "def island(grid, i, j):\n",
    "        \n",
    "    if i < 0 or j < 0 or j > len(grid[0]) - 1 or i > len(grid) - 1 or not grid[i][j] == 1:\n",
    "        return\n",
    "        \n",
    "    grid[i][j] = 0\n",
    "    island(grid, i + 1, j)\n",
    "    island(grid, i - 1, j)\n",
    "    island(grid, i, j + 1)\n",
    "    island(grid, i, j - 1)\n",
    "    island(grid, i + 1, j + 1)\n",
    "    island(grid, i + 1, j - 1)\n",
    "    island(grid, i - 1, j + 1)\n",
    "    island(grid, i - 1, j - 1)"
   ]
  },
  {
   "cell_type": "markdown",
   "id": "60de12d7",
   "metadata": {},
   "source": [
    "### Sample Tests"
   ]
  },
  {
   "cell_type": "code",
   "execution_count": null,
   "id": "000be37f",
   "metadata": {},
   "outputs": [],
   "source": [
    "from solution import count_islands\n",
    "import codewars_test as test\n",
    "from preloaded import dump\n",
    "\n",
    "@test.describe(\"Sample tests\")\n",
    "def sample_tests():\n",
    "    @test.it(\"Tests\")\n",
    "    def it_1():\n",
    "        image = [\n",
    "            [0,0,0,0],\n",
    "            [0,0,0,0],\n",
    "            [0,0,0,0],\n",
    "            [0,0,0,0]\n",
    "        ]\n",
    "        stringified = dump(image)\n",
    "        test.assert_equals(count_islands(image), 0, f\"Failed for\\n\\n{stringified}\\n\\n\")\n",
    "        \n",
    "        image = [\n",
    "            [0,0,0,0],\n",
    "            [0,1,1,0],\n",
    "            [0,1,1,0],\n",
    "            [0,0,0,0]\n",
    "        ]\n",
    "        stringified = dump(image)\n",
    "        test.assert_equals(count_islands(image), 1, f\"Failed for\\n\\n{stringified}\\n\\n\")\n",
    "        \n",
    "        image = [\n",
    "            [0,0,0,0,0,0,0,0,0,0],\n",
    "            [0,0,1,1,0,0,0,0,0,0],\n",
    "            [0,0,1,1,0,0,0,0,0,0],\n",
    "            [0,0,0,0,0,0,0,0,1,0],\n",
    "            [0,0,0,0,0,1,1,1,0,0],\n",
    "            [0,0,0,0,0,0,0,0,0,0]\n",
    "        ]\n",
    "        stringified = dump(image)\n",
    "        test.assert_equals(count_islands(image), 2, f\"Failed for\\n\\n{stringified}\\n\\n\")"
   ]
  }
 ],
 "metadata": {
  "kernelspec": {
   "display_name": "Python 3 (ipykernel)",
   "language": "python",
   "name": "python3"
  },
  "language_info": {
   "codemirror_mode": {
    "name": "ipython",
    "version": 3
   },
   "file_extension": ".py",
   "mimetype": "text/x-python",
   "name": "python",
   "nbconvert_exporter": "python",
   "pygments_lexer": "ipython3",
   "version": "3.9.7"
  }
 },
 "nbformat": 4,
 "nbformat_minor": 5
}
