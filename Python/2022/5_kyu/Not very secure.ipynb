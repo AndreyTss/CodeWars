{
 "cells": [
  {
   "cell_type": "markdown",
   "id": "88b02dd1",
   "metadata": {},
   "source": [
    "## Not very secure\n",
    "###### `BUGS` `REGULAR EXPRESSIONS` `DECLARATIVE PROGRAMMING` `ADVANCED LANGUAGE FEATURES` `FUNDAMENTALS` `STRINGS`"
   ]
  },
  {
   "cell_type": "markdown",
   "id": "96cb46ac",
   "metadata": {},
   "source": [
    "In this example you have to validate if a user input string is alphanumeric. The given string is not `nil/null/NULL/None`, so you don't have to check that.\n",
    "\n",
    "The string has the following conditions to be alphanumeric:\n",
    "\n",
    "At least one character (`\"\"` is not valid)\n",
    "Allowed characters are uppercase / lowercase latin letters and digits from `0` to `9`\n",
    "No whitespaces / underscore"
   ]
  },
  {
   "cell_type": "markdown",
   "id": "f1c439f9",
   "metadata": {},
   "source": [
    "### My solution"
   ]
  },
  {
   "cell_type": "code",
   "execution_count": 7,
   "id": "8ebdb4b4",
   "metadata": {},
   "outputs": [],
   "source": [
    "def alphanumeric(password):\n",
    "    shl = ''\n",
    "    for i in list(password.lower()):\n",
    "        if i not in 'abcdefghijklmnopqrstuvwxyz' and i not in '0123456789': \n",
    "            shl += i\n",
    "    if password == '': return False\n",
    "    else:\n",
    "        return shl == ''"
   ]
  },
  {
   "cell_type": "markdown",
   "id": "def67bde",
   "metadata": {},
   "source": [
    "### Sample Tests"
   ]
  },
  {
   "cell_type": "code",
   "execution_count": null,
   "id": "32cb8727",
   "metadata": {},
   "outputs": [],
   "source": [
    "@test.describe(\"Sample Tests\")\n",
    "def sample_tests():\n",
    "    tests = [\n",
    "        (\"hello world_\", False),\n",
    "        (\"PassW0rd\", True),\n",
    "        (\"     \", False)\n",
    "    ]\n",
    "    for s, b in tests:\n",
    "        @test.it('alphanumeric(\"' + s + '\")')\n",
    "        def sample_test():\n",
    "            test.assert_equals(alphanumeric(s), b)"
   ]
  }
 ],
 "metadata": {
  "kernelspec": {
   "display_name": "Python 3 (ipykernel)",
   "language": "python",
   "name": "python3"
  },
  "language_info": {
   "codemirror_mode": {
    "name": "ipython",
    "version": 3
   },
   "file_extension": ".py",
   "mimetype": "text/x-python",
   "name": "python",
   "nbconvert_exporter": "python",
   "pygments_lexer": "ipython3",
   "version": "3.9.7"
  }
 },
 "nbformat": 4,
 "nbformat_minor": 5
}
