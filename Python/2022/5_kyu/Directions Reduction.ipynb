{
 "cells": [
  {
   "cell_type": "markdown",
   "id": "6526243a",
   "metadata": {},
   "source": [
    "## Directions Reduction\n",
    "###### `FUNDAMENTALS`"
   ]
  },
  {
   "cell_type": "markdown",
   "id": "a7fa10c0",
   "metadata": {},
   "source": [
    "**Once upon a time, on a way through the old wild mountainous west,…**\n",
    "… a man was given directions to go from one point to another. The directions were \"NORTH\", \"SOUTH\", \"WEST\", \"EAST\". Clearly \"NORTH\" and \"SOUTH\" are opposite, \"WEST\" and \"EAST\" too.\n",
    "\n",
    "Going to one direction and coming back the opposite direction right away is a needless effort. Since this is the wild west, with dreadfull weather and not much water, it's important to save yourself some energy, otherwise you might die of thirst!\n",
    "\n",
    "**How I crossed a mountainous desert the smart way.**\n",
    "The directions given to the man are, for example, the following (depending on the language):"
   ]
  },
  {
   "cell_type": "code",
   "execution_count": null,
   "id": "dee8a999",
   "metadata": {},
   "outputs": [],
   "source": [
    "[\"NORTH\", \"SOUTH\", \"SOUTH\", \"EAST\", \"WEST\", \"NORTH\", \"WEST\"].\n",
    "or\n",
    "{ \"NORTH\", \"SOUTH\", \"SOUTH\", \"EAST\", \"WEST\", \"NORTH\", \"WEST\" };\n",
    "or\n",
    "[North, South, South, East, West, North, West]"
   ]
  },
  {
   "cell_type": "markdown",
   "id": "11328ca4",
   "metadata": {},
   "source": [
    "You can immediatly see that going \"NORTH\" and immediately \"SOUTH\" is not reasonable, better stay to the same place! So the task is to give to the man a simplified version of the plan. A better plan in this case is simply:"
   ]
  },
  {
   "cell_type": "code",
   "execution_count": null,
   "id": "611ef8ae",
   "metadata": {},
   "outputs": [],
   "source": [
    "[\"WEST\"]\n",
    "or\n",
    "{ \"WEST\" }\n",
    "or\n",
    "[West]"
   ]
  },
  {
   "cell_type": "markdown",
   "id": "081e143d",
   "metadata": {},
   "source": [
    "**Other examples:**\n",
    "In `[\"NORTH\", \"SOUTH\", \"EAST\", \"WEST\"]`, the direction `\"NORTH\" + \"SOUTH\"` is going north and coming back right away.\n",
    "\n",
    "The path becomes `[\"EAST\", \"WEST\"]`, now `\"EAST\"` and `\"WEST\"` annihilate each other, therefore, the final result is `[]` (nil in Clojure).\n",
    "\n",
    "In [\"NORTH\", \"EAST\", \"WEST\", \"SOUTH\", \"WEST\", \"WEST\"], \"NORTH\" and \"SOUTH\" are not directly opposite but they become directly opposite after the reduction of \"EAST\" and \"WEST\" so the whole path is reducible to [\"WEST\", \"WEST\"].\n",
    "\n",
    "**Task**\n",
    "Write a function `dirReduc` which will take an array of strings and returns an array of strings with the needless directions removed (W<->E or S<->N side by side).\n",
    "\n",
    "+ The Haskell version takes a list of directions with `data Direction = North | East | West | South`.\n",
    "+ The Clojure version returns nil when the path is reduced to nothing.\n",
    "+ The Rust version takes a slice of `enum Direction {North, East, West, South}`.\n",
    "\n",
    "**See more examples in \"Sample Tests:\"**\n",
    "\n",
    "**Notes**\n",
    "+ Not all paths can be made simpler. The path [\"NORTH\", \"WEST\", \"SOUTH\", \"EAST\"] is not reducible. \"NORTH\" and \"WEST\", \"WEST\" and \"SOUTH\", \"SOUTH\" and \"EAST\" are not directly opposite of each other and can't become such. Hence the result path is itself : [\"NORTH\", \"WEST\", \"SOUTH\", \"EAST\"].\n",
    "+ if you want to translate, please ask before translating."
   ]
  },
  {
   "cell_type": "markdown",
   "id": "a1dbbc55",
   "metadata": {},
   "source": [
    "### My solution"
   ]
  },
  {
   "cell_type": "code",
   "execution_count": 3,
   "id": "c430e129",
   "metadata": {},
   "outputs": [],
   "source": [
    "def dirReduc(arr):\n",
    "    dict = {'NORTH':'SOUTH', 'SOUTH':'NORTH', 'EAST':'WEST', 'WEST':'EAST'}\n",
    "    res = []\n",
    "    \n",
    "    for i in arr:\n",
    "        if res and dict[i] == res[-1]:\n",
    "            res.pop()\n",
    "        else:\n",
    "            res.append(i)\n",
    "            \n",
    "    return res"
   ]
  },
  {
   "cell_type": "markdown",
   "id": "60de12d7",
   "metadata": {},
   "source": [
    "### Sample Tests"
   ]
  },
  {
   "cell_type": "code",
   "execution_count": null,
   "id": "000be37f",
   "metadata": {},
   "outputs": [],
   "source": [
    "a = [\"NORTH\", \"SOUTH\", \"SOUTH\", \"EAST\", \"WEST\", \"NORTH\", \"WEST\"]\n",
    "test.assert_equals(dirReduc(a), ['WEST'])\n",
    "u=[\"NORTH\", \"WEST\", \"SOUTH\", \"EAST\"]\n",
    "test.assert_equals(dirReduc(u), [\"NORTH\", \"WEST\", \"SOUTH\", \"EAST\"])"
   ]
  }
 ],
 "metadata": {
  "kernelspec": {
   "display_name": "Python 3 (ipykernel)",
   "language": "python",
   "name": "python3"
  },
  "language_info": {
   "codemirror_mode": {
    "name": "ipython",
    "version": 3
   },
   "file_extension": ".py",
   "mimetype": "text/x-python",
   "name": "python",
   "nbconvert_exporter": "python",
   "pygments_lexer": "ipython3",
   "version": "3.9.7"
  }
 },
 "nbformat": 4,
 "nbformat_minor": 5
}
