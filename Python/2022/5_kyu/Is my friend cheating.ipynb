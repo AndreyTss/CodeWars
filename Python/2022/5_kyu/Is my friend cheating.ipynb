{
 "cells": [
  {
   "cell_type": "markdown",
   "id": "88b02dd1",
   "metadata": {},
   "source": [
    "## Is my friend cheating?\n",
    "###### `PUZZLES` `FUNDAMENTALS` `NUMBERS` `MATHEMATICS` `ALGORITHMS`"
   ]
  },
  {
   "cell_type": "markdown",
   "id": "96cb46ac",
   "metadata": {},
   "source": [
    "+ A friend of mine takes the sequence of all numbers from 1 to n (where n > 0).\n",
    "+ Within that sequence, he chooses two numbers, a and b.\n",
    "+ He says that the product of a and b should be equal to the sum of all numbers in the sequence, excluding a and b.\n",
    "+ Given a number n, could you tell me the numbers he excluded from the sequence?  \n",
    "\n",
    "The function takes the parameter: `n` (n is always strictly greater than 0) and returns an array or a string (depending on the language) of the form:"
   ]
  },
  {
   "cell_type": "code",
   "execution_count": null,
   "id": "9f0e5d20",
   "metadata": {},
   "outputs": [],
   "source": [
    "[(a, b), ...] or [[a, b], ...] or {{a, b}, ...} or or [{a, b}, ...]"
   ]
  },
  {
   "cell_type": "markdown",
   "id": "5df5e933",
   "metadata": {},
   "source": [
    "with all `(a, b)` which are the possible removed numbers in the sequence `1 to n`.\n",
    "\n",
    "`[(a, b), ...] or [[a, b], ...] or {{a, b}, ...} or ...` will be sorted in increasing order of the \"a\".\n",
    "\n",
    "It happens that there are several possible (a, b). The function returns an empty array (or an empty string) if no possible numbers are found which will prove that my friend has not told the truth! (Go: in this case return `nil`)."
   ]
  },
  {
   "cell_type": "markdown",
   "id": "c3f61e5d",
   "metadata": {},
   "source": [
    "### Examples"
   ]
  },
  {
   "cell_type": "code",
   "execution_count": null,
   "id": "237f7d6c",
   "metadata": {},
   "outputs": [],
   "source": [
    "removNb(26) should return [(15, 21), (21, 15)]\n",
    "or\n",
    "removNb(26) should return { {15, 21}, {21, 15} }\n",
    "or\n",
    "removeNb(26) should return [[15, 21], [21, 15]]\n",
    "or\n",
    "removNb(26) should return [ {15, 21}, {21, 15} ]\n",
    "or\n",
    "removNb(26) should return \"15 21, 21 15\""
   ]
  },
  {
   "cell_type": "markdown",
   "id": "e7b48c18",
   "metadata": {},
   "source": [
    "or"
   ]
  },
  {
   "cell_type": "code",
   "execution_count": null,
   "id": "840501c9",
   "metadata": {},
   "outputs": [],
   "source": [
    "in C:\n",
    "removNb(26) should return  {{15, 21}{21, 15}} tested by way of strings.\n",
    "Function removNb should return a pointer to an allocated array of Pair pointers, each one also allocated. "
   ]
  },
  {
   "cell_type": "markdown",
   "id": "f1c439f9",
   "metadata": {},
   "source": [
    "### My solution"
   ]
  },
  {
   "cell_type": "code",
   "execution_count": 7,
   "id": "8ebdb4b4",
   "metadata": {},
   "outputs": [],
   "source": [
    "def remov_nb(n):\n",
    "    \n",
    "    res = []\n",
    "    s = n * (n + 1) // 2\n",
    "    \n",
    "    for i in range(1, n + 1):\n",
    "            if (s - i) // (i + 1) <= n and i * ((s - i) // (i + 1)) == s - i - (s - i) // (i + 1):\n",
    "                res.append((i, (s - i) // (i + 1)))\n",
    "    \n",
    "    return res"
   ]
  },
  {
   "cell_type": "markdown",
   "id": "def67bde",
   "metadata": {},
   "source": [
    "### Sample Tests"
   ]
  },
  {
   "cell_type": "code",
   "execution_count": null,
   "id": "32cb8727",
   "metadata": {},
   "outputs": [],
   "source": [
    "import codewars_test as test\n",
    "        \n",
    "@test.describe(\"Cheating Friend\")\n",
    "def tests():   \n",
    "    def testing(n, exp):\n",
    "        try:\n",
    "            actual = removNb(n)\n",
    "        except NameError:\n",
    "            actual = remov_nb(n)\n",
    "        test.assert_equals(actual, exp)\n",
    "    @test.it(\"Fixed tests\")\n",
    "    def basics():\n",
    "        testing(26, [(15, 21), (21, 15)])\n",
    "        testing(100, [])\n",
    "        testing(101, [(55, 91), (91, 55)])"
   ]
  }
 ],
 "metadata": {
  "kernelspec": {
   "display_name": "Python 3 (ipykernel)",
   "language": "python",
   "name": "python3"
  },
  "language_info": {
   "codemirror_mode": {
    "name": "ipython",
    "version": 3
   },
   "file_extension": ".py",
   "mimetype": "text/x-python",
   "name": "python",
   "nbconvert_exporter": "python",
   "pygments_lexer": "ipython3",
   "version": "3.9.7"
  }
 },
 "nbformat": 4,
 "nbformat_minor": 5
}
