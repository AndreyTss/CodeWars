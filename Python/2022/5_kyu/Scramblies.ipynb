{
 "cells": [
  {
   "cell_type": "markdown",
   "id": "88b02dd1",
   "metadata": {},
   "source": [
    "## Scramblies\n",
    "###### `ALGORITHMS` `STRINGS` `PERFORMANCE` `OPTIMIZATION`"
   ]
  },
  {
   "cell_type": "markdown",
   "id": "96cb46ac",
   "metadata": {},
   "source": [
    "Complete the function `scramble(str1, str2)` that returns `true` if a portion of `str1` characters can be rearranged to match `str2`, otherwise returns `false`."
   ]
  },
  {
   "cell_type": "markdown",
   "id": "17cda868",
   "metadata": {},
   "source": [
    "### Notes\n",
    "\n",
    "`scramble('rkqodlw', 'world') ==> True`  \n",
    "`scramble('cedewaraaossoqqyt', 'codewars') ==> True`  \n",
    "`scramble('katas', 'steak') ==> False`"
   ]
  },
  {
   "cell_type": "markdown",
   "id": "f1c439f9",
   "metadata": {},
   "source": [
    "### My solution"
   ]
  },
  {
   "cell_type": "code",
   "execution_count": 7,
   "id": "8ebdb4b4",
   "metadata": {},
   "outputs": [],
   "source": [
    "def scramble(s1,s2):\n",
    "    for letter in set(s2):\n",
    "        if s1.count(letter) < s2.count(letter): return False\n",
    "    return True "
   ]
  },
  {
   "cell_type": "markdown",
   "id": "def67bde",
   "metadata": {},
   "source": [
    "### Sample Tests"
   ]
  },
  {
   "cell_type": "code",
   "execution_count": null,
   "id": "32cb8727",
   "metadata": {},
   "outputs": [],
   "source": [
    "test.assert_equals(scramble('rkqodlw', 'world'),  True)\n",
    "test.assert_equals(scramble('cedewaraaossoqqyt', 'codewars'), True)\n",
    "test.assert_equals(scramble('katas', 'steak'), False)\n",
    "test.assert_equals(scramble('scriptjava', 'javascript'), True)\n",
    "test.assert_equals(scramble('scriptingjava', 'javascript'), True)"
   ]
  }
 ],
 "metadata": {
  "kernelspec": {
   "display_name": "Python 3 (ipykernel)",
   "language": "python",
   "name": "python3"
  },
  "language_info": {
   "codemirror_mode": {
    "name": "ipython",
    "version": 3
   },
   "file_extension": ".py",
   "mimetype": "text/x-python",
   "name": "python",
   "nbconvert_exporter": "python",
   "pygments_lexer": "ipython3",
   "version": "3.9.7"
  }
 },
 "nbformat": 4,
 "nbformat_minor": 5
}
