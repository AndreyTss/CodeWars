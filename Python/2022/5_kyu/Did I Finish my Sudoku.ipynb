{
 "cells": [
  {
   "cell_type": "markdown",
   "id": "6526243a",
   "metadata": {},
   "source": [
    "## Did I Finish my Sudoku?\n",
    "###### `PUZZLES` `LISTS` `DATA STRUCTURES` `LOOPS` `CONTROL FLOW` `BASIC LANGUAGE FEATURES` `FUNDAMENTALS` `MATHEMATICS` `ALGORITHMS` `NUMBERS`"
   ]
  },
  {
   "cell_type": "markdown",
   "id": "a7fa10c0",
   "metadata": {},
   "source": [
    "Write a function done_or_not/`DoneOrNot` passing a board (list[list_lines]) as parameter. If the board is valid return 'Finished!', otherwise return 'Try again!'\n",
    "\n",
    "Sudoku rules:\n",
    "\n",
    "Complete the Sudoku puzzle so that each and every row, column, and region contains the numbers one through nine only once.\n",
    "\n",
    "Rows:\n",
    "\n",
    "\n",
    "There are 9 rows in a traditional Sudoku puzzle. Every row must contain the numbers 1, 2, 3, 4, 5, 6, 7, 8, and 9. There may not be any duplicate numbers in any row. In other words, there can not be any rows that are identical.\n",
    "\n",
    "In the illustration the numbers 5, 3, 1, and 2 are the \"givens\". They can not be changed. The remaining numbers in black are the numbers that you fill in to complete the row.\n",
    "\n",
    "Columns:\n",
    "\n",
    "\n",
    "There are 9 columns in a traditional Sudoku puzzle. Like the Sudoku rule for rows, every column must also contain the numbers 1, 2, 3, 4, 5, 6, 7, 8, and 9. Again, there may not be any duplicate numbers in any column. Each column will be unique as a result.\n",
    "\n",
    "In the illustration the numbers 7, 2, and 6 are the \"givens\". They can not be changed. You fill in the remaining numbers as shown in black to complete the column.\n",
    "\n",
    "Regions\n",
    "\n",
    "\n",
    "A region is a 3x3 box like the one shown to the left. There are 9 regions in a traditional Sudoku puzzle.\n",
    "\n",
    "Like the Sudoku requirements for rows and columns, every region must also contain the numbers 1, 2, 3, 4, 5, 6, 7, 8, and 9. Duplicate numbers are not permitted in any region. Each region will differ from the other regions.\n",
    "\n",
    "In the illustration the numbers 1, 2, and 8 are the \"givens\". They can not be changed. Fill in the remaining numbers as shown in black to complete the region.\n",
    "\n",
    "Valid board example:\n",
    "\n",
    "![name](https://upload.wikimedia.org/wikipedia/commons/thumb/3/31/Sudoku-by-L2G-20050714_solution.svg/364px-Sudoku-by-L2G-20050714_solution.svg.png)\n",
    "\n",
    "For those who don't know the game, here are some information about rules and how to play Sudoku: http://en.wikipedia.org/wiki/Sudoku and http://www.sudokuessentials.com/"
   ]
  },
  {
   "cell_type": "markdown",
   "id": "a1dbbc55",
   "metadata": {},
   "source": [
    "### My solution"
   ]
  },
  {
   "cell_type": "code",
   "execution_count": 3,
   "id": "c430e129",
   "metadata": {},
   "outputs": [],
   "source": [
    "def done_or_not(board): #board[i][j]\n",
    "    \n",
    "    right = [1, 2, 3, 4, 5, 6, 7, 8, 9]\n",
    "    \n",
    "    for i in range(len(board)):\n",
    "        if sorted(board[i]) == right:\n",
    "            col = []\n",
    "            for j in range(len(board)):\n",
    "                col.append(board[j][i])\n",
    "        else: \n",
    "            print('Try again!')\n",
    "            return 'Try again!'\n",
    "    \n",
    "    if sorted(col) == right:\n",
    "        pos = []\n",
    "        sq = []\n",
    "        for i in range(0, len(board), 3):\n",
    "            for j in range(0, len(board), 3):\n",
    "                for m in range(i, i + 3, 1):\n",
    "                    for k in range(j, j + 3, 1):\n",
    "                        pos.append(board[m][k])\n",
    "        print(pos)\n",
    "        s = 0\n",
    "        for i in range(len(pos)):\n",
    "            sq.append(pos[i])\n",
    "            if (i + 1) % 9 == 0:\n",
    "                if sorted(sq) == right:\n",
    "                    s += 1\n",
    "                print(sq)\n",
    "                sq = []\n",
    "        if s == 9:\n",
    "            print('Finished!')\n",
    "            return 'Finished!'\n",
    "        else:\n",
    "            print('Try again!')\n",
    "            return 'Try again!' \n",
    "    else:\n",
    "        print('Try again!')\n",
    "        return 'Try again!'"
   ]
  },
  {
   "cell_type": "markdown",
   "id": "60de12d7",
   "metadata": {},
   "source": [
    "### Sample Tests"
   ]
  },
  {
   "cell_type": "code",
   "execution_count": null,
   "id": "000be37f",
   "metadata": {},
   "outputs": [],
   "source": [
    "test.assert_equals(done_or_not([[1, 3, 2, 5, 7, 9, 4, 6, 8]\n",
    "                        ,[4, 9, 8, 2, 6, 1, 3, 7, 5]\n",
    "                        ,[7, 5, 6, 3, 8, 4, 2, 1, 9]\n",
    "                        ,[6, 4, 3, 1, 5, 8, 7, 9, 2]\n",
    "                        ,[5, 2, 1, 7, 9, 3, 8, 4, 6]\n",
    "                        ,[9, 8, 7, 4, 2, 6, 5, 3, 1]\n",
    "                        ,[2, 1, 4, 9, 3, 5, 6, 8, 7]\n",
    "                        ,[3, 6, 5, 8, 1, 7, 9, 2, 4]\n",
    "                        ,[8, 7, 9, 6, 4, 2, 1, 5, 3]]), 'Finished!');\n",
    "                        \n",
    "test.assert_equals(done_or_not([[1, 3, 2, 5, 7, 9, 4, 6, 8]\n",
    "                        ,[4, 9, 8, 2, 6, 1, 3, 7, 5]\n",
    "                        ,[7, 5, 6, 3, 8, 4, 2, 1, 9]\n",
    "                        ,[6, 4, 3, 1, 5, 8, 7, 9, 2]\n",
    "                        ,[5, 2, 1, 7, 9, 3, 8, 4, 6]\n",
    "                        ,[9, 8, 7, 4, 2, 6, 5, 3, 1]\n",
    "                        ,[2, 1, 4, 9, 3, 5, 6, 8, 7]\n",
    "                        ,[3, 6, 5, 8, 1, 7, 9, 2, 4]\n",
    "                        ,[8, 7, 9, 6, 4, 2, 1, 3, 5]]), 'Try again!');"
   ]
  }
 ],
 "metadata": {
  "kernelspec": {
   "display_name": "Python 3 (ipykernel)",
   "language": "python",
   "name": "python3"
  },
  "language_info": {
   "codemirror_mode": {
    "name": "ipython",
    "version": 3
   },
   "file_extension": ".py",
   "mimetype": "text/x-python",
   "name": "python",
   "nbconvert_exporter": "python",
   "pygments_lexer": "ipython3",
   "version": "3.9.7"
  }
 },
 "nbformat": 4,
 "nbformat_minor": 5
}
