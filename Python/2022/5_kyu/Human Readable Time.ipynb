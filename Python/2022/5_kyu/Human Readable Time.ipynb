{
 "cells": [
  {
   "cell_type": "markdown",
   "id": "88b02dd1",
   "metadata": {},
   "source": [
    "## Detect Pangram\n",
    "###### `FUNDAMENTALS` `DATES/TIME` `MATHEMATICS` `NUMBERS`"
   ]
  },
  {
   "cell_type": "markdown",
   "id": "96cb46ac",
   "metadata": {},
   "source": [
    "Write a function, which takes a non-negative integer (seconds) as input and returns the time in a human-readable format (`HH:MM:SS`)\n",
    "\n",
    "* `HH` = hours, padded to 2 digits, range: 00 - 99\n",
    "* `MM` = minutes, padded to 2 digits, range: 00 - 59\n",
    "* `SS` = seconds, padded to 2 digits, range: 00 - 59\n",
    "\n",
    "The maximum time never exceeds 359999 (`99:59:59`)\n",
    "\n",
    "You can find some examples in the test fixtures."
   ]
  },
  {
   "cell_type": "markdown",
   "id": "f1c439f9",
   "metadata": {},
   "source": [
    "### My solution"
   ]
  },
  {
   "cell_type": "code",
   "execution_count": 7,
   "id": "8ebdb4b4",
   "metadata": {},
   "outputs": [],
   "source": [
    "def make_readable(seconds):\n",
    "    if int(seconds / 60 - int(seconds / 3600) * 60) < 10:\n",
    "        minutes = '0' + str(int(seconds / 60 - int(seconds / 3600) * 60))\n",
    "    else:\n",
    "        minutes = str(int(seconds / 60 - int(seconds / 3600) * 60))\n",
    "        \n",
    "    if int(seconds / 3600) < 10:\n",
    "        hours = '0' + str(int(seconds / 3600))\n",
    "    else:\n",
    "        hours = str(int(seconds / 3600))\n",
    "        \n",
    "    sec = seconds - int(seconds / 60 - int(seconds / 3600) * 60) * 60 - int(seconds / 3600) * 3600\n",
    "    \n",
    "    if sec < 10:\n",
    "        sec = '0' + str(sec)\n",
    "        \n",
    "    return hours + ':' + minutes + ':' + str(sec)  "
   ]
  },
  {
   "cell_type": "markdown",
   "id": "def67bde",
   "metadata": {},
   "source": [
    "### Sample Tests"
   ]
  },
  {
   "cell_type": "code",
   "execution_count": null,
   "id": "32cb8727",
   "metadata": {},
   "outputs": [],
   "source": [
    "test.assert_equals(make_readable(0), \"00:00:00\")\n",
    "test.assert_equals(make_readable(5), \"00:00:05\")\n",
    "test.assert_equals(make_readable(60), \"00:01:00\")\n",
    "test.assert_equals(make_readable(86399), \"23:59:59\")\n",
    "test.assert_equals(make_readable(359999), \"99:59:59\")"
   ]
  }
 ],
 "metadata": {
  "kernelspec": {
   "display_name": "Python 3 (ipykernel)",
   "language": "python",
   "name": "python3"
  },
  "language_info": {
   "codemirror_mode": {
    "name": "ipython",
    "version": 3
   },
   "file_extension": ".py",
   "mimetype": "text/x-python",
   "name": "python",
   "nbconvert_exporter": "python",
   "pygments_lexer": "ipython3",
   "version": "3.9.7"
  }
 },
 "nbformat": 4,
 "nbformat_minor": 5
}
