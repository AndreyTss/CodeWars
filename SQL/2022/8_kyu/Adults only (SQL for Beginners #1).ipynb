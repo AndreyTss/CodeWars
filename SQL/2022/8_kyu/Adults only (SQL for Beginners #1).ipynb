{
 "cells": [
  {
   "cell_type": "markdown",
   "id": "88b02dd1",
   "metadata": {},
   "source": [
    "## Adults only (SQL for Beginners #1)\n",
    "###### `FUNDAMENTALS` `SQL` `DATABASES` `INFORMATION SYSTEMS` `DATA`"
   ]
  },
  {
   "cell_type": "markdown",
   "id": "96cb46ac",
   "metadata": {},
   "source": [
    "In your application, there is a section for adults only. You need to get a list of names and ages of users from the users table, who are 18 years old or older.\n",
    "\n",
    "users table schema\n",
    "\n",
    "+ name\n",
    "+ age\n",
    "\n",
    "### Note\n",
    "Your solution should use pure SQL. Ruby is used within the test cases just to validate your answer."
   ]
  },
  {
   "cell_type": "markdown",
   "id": "f1c439f9",
   "metadata": {},
   "source": [
    "### My solution"
   ]
  },
  {
   "cell_type": "code",
   "execution_count": 7,
   "id": "8ebdb4b4",
   "metadata": {},
   "outputs": [],
   "source": [
    "SELECT * from people WHERE age > 50 ORDER BY age DESC;"
   ]
  },
  {
   "cell_type": "markdown",
   "id": "def67bde",
   "metadata": {},
   "source": [
    "### Sample Tests"
   ]
  },
  {
   "cell_type": "code",
   "execution_count": null,
   "id": "32cb8727",
   "metadata": {},
   "outputs": [],
   "source": [
    "results = run_sql\n",
    "\n",
    "RSpec.describe :items do\n",
    "  it \"should return people with age over 50\" do\n",
    "    record_count = get_all_records(:people).count\n",
    "    actual_count = results.count\n",
    "    expect(actual_count).to eq(record_count),\n",
    "      \"\\nshould have #{record_count} people, got #{actual_count}\"\n",
    "  end\n",
    " \n",
    "  it \"should return names\" do\n",
    "    results.each do |result|\n",
    "      expected_name = find_record(:people, result[:id]).name\n",
    "      expect(result[:name]).to eq(expected_name),\n",
    "        \"\\nwrong name for #{result[:id]}, expected #{expected_name}, got #{result[:name]}\"\n",
    "    end\n",
    "  end\n",
    " \n",
    "  it \"should only return people with age over 50\" do\n",
    "    results.each do |result|\n",
    "      expect(result[:age]).to be > 50,\n",
    "        \"\\nonly people with age over 50 should be included\"\n",
    "    end\n",
    "  end\n",
    " \n",
    "  it \"should only return people ordered by age descending\" do\n",
    "    last_highest = 100\n",
    "    results.each do |result|\n",
    "      expect(result[:age]).to be <= last_highest,\n",
    "        \"\\nmust be ordered by age descending\"\n",
    "      last_highest = result[:age]\n",
    "    end\n",
    "  end\n",
    "end"
   ]
  }
 ],
 "metadata": {
  "kernelspec": {
   "display_name": "Python 3 (ipykernel)",
   "language": "python",
   "name": "python3"
  },
  "language_info": {
   "codemirror_mode": {
    "name": "ipython",
    "version": 3
   },
   "file_extension": ".py",
   "mimetype": "text/x-python",
   "name": "python",
   "nbconvert_exporter": "python",
   "pygments_lexer": "ipython3",
   "version": "3.9.7"
  }
 },
 "nbformat": 4,
 "nbformat_minor": 5
}
