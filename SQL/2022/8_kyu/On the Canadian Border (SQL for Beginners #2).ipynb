{
 "cells": [
  {
   "cell_type": "markdown",
   "id": "88b02dd1",
   "metadata": {},
   "source": [
    "##  On the Canadian Border (SQL for Beginners #2)\n",
    "###### `FUNDAMENTALS` `SQL` `DATABASES` `INFORMATION SYSTEMS` `DATA`"
   ]
  },
  {
   "cell_type": "markdown",
   "id": "96cb46ac",
   "metadata": {},
   "source": [
    "You are a border guard sitting on the Canadian border. You were given a list of travelers who have arrived at your gate today. You know that American, Mexican, and Canadian citizens don't need visas, so they can just continue their trips. You don't need to check their passports for visas! You only need to check the passports of citizens of all other countries!\n",
    "\n",
    "Select names, and countries of origin of all the travelers, excluding anyone from Canada, Mexico, or The US.\n",
    "\n",
    "travelers table schema\n",
    "\n",
    "+ name\n",
    "+ country\n",
    "\n",
    "### Notes\n",
    "\n",
    "The United States is written as 'USA' in the table.\n",
    "\n",
    "Your solution should use pure SQL. Ruby is used within the test cases just to validate your answer."
   ]
  },
  {
   "cell_type": "markdown",
   "id": "f1c439f9",
   "metadata": {},
   "source": [
    "### My solution"
   ]
  },
  {
   "cell_type": "code",
   "execution_count": 7,
   "id": "8ebdb4b4",
   "metadata": {},
   "outputs": [],
   "source": [
    "SELECT *\n",
    "FROM travelers\n",
    "WHERE country NOT IN ('Canada', 'Mexico', 'USA');"
   ]
  },
  {
   "cell_type": "markdown",
   "id": "def67bde",
   "metadata": {},
   "source": [
    "### Sample Tests"
   ]
  },
  {
   "cell_type": "code",
   "execution_count": null,
   "id": "32cb8727",
   "metadata": {},
   "outputs": [],
   "source": [
    "# Run SQL\n",
    "results = run_sql\n",
    "\n",
    "# Tests\n",
    "describe :travelers do\n",
    "   it \"should return 6 travelers\" do\n",
    "    expect(results.count).to eq 6\n",
    "   end\n",
    "end"
   ]
  }
 ],
 "metadata": {
  "kernelspec": {
   "display_name": "Python 3 (ipykernel)",
   "language": "python",
   "name": "python3"
  },
  "language_info": {
   "codemirror_mode": {
    "name": "ipython",
    "version": 3
   },
   "file_extension": ".py",
   "mimetype": "text/x-python",
   "name": "python",
   "nbconvert_exporter": "python",
   "pygments_lexer": "ipython3",
   "version": "3.9.7"
  }
 },
 "nbformat": 4,
 "nbformat_minor": 5
}
