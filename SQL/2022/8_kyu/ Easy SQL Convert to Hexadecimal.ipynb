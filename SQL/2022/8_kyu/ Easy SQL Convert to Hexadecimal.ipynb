{
 "cells": [
  {
   "cell_type": "markdown",
   "id": "88b02dd1",
   "metadata": {},
   "source": [
    "## Easy SQL: Convert to Hexadecimal\n",
    "###### `FUNDAMENTALS` `SQL` `DATABASES` `INFORMATION SYSTEMS` `DATA` `FILTERING` `ALGORITHMS`"
   ]
  },
  {
   "cell_type": "markdown",
   "id": "96cb46ac",
   "metadata": {},
   "source": [
    "You have access to a table of monsters as follows:\n",
    "\n",
    "monsters table schema\n",
    "+ id\n",
    "+ name\n",
    "+ legs\n",
    "+ arms\n",
    "+ characteristics\n",
    "Your task is to turn the numeric columns (`arms`, `legs`) into equivalent hexadecimal values.\n",
    "\n",
    "output table schema\n",
    "+ legs\n",
    "+ arms"
   ]
  },
  {
   "cell_type": "markdown",
   "id": "f1c439f9",
   "metadata": {},
   "source": [
    "### My solution"
   ]
  },
  {
   "cell_type": "code",
   "execution_count": 7,
   "id": "8ebdb4b4",
   "metadata": {},
   "outputs": [],
   "source": [
    "SELECT to_hex(legs) as legs,\n",
    "       to_hex(arms) as arms\n",
    "FROM monsters;"
   ]
  },
  {
   "cell_type": "markdown",
   "id": "def67bde",
   "metadata": {},
   "source": [
    "### Sample Tests"
   ]
  },
  {
   "cell_type": "code",
   "execution_count": null,
   "id": "32cb8727",
   "metadata": {},
   "outputs": [],
   "source": [
    "results = run_sql\n",
    "\n",
    "describe :query do\n",
    "  describe \"should contain keywords\" do\n",
    "    it \"should contain SELECT\" do\n",
    "      expect($sql.upcase).to include(\"SELECT\")\n",
    "    end\n",
    "\n",
    "    it \"should contain FROM\" do\n",
    "      expect($sql.upcase).to include(\"FROM\")\n",
    "    end\n",
    "  end\n",
    "\n",
    "  describe :columns do\n",
    "    it \"should return 2 columns\" do\n",
    "      expect(results.first.keys.count).to eq 2\n",
    "    end\n",
    "    \n",
    "    it \"should return an arms column\" do\n",
    "      expect(results.first.keys).to include(:arms)\n",
    "    end\n",
    "    \n",
    "    it \"should return a legs column\" do\n",
    "      expect(results.first.keys).to include(:legs)\n",
    "    end\n",
    " end\n",
    "end"
   ]
  }
 ],
 "metadata": {
  "kernelspec": {
   "display_name": "Python 3 (ipykernel)",
   "language": "python",
   "name": "python3"
  },
  "language_info": {
   "codemirror_mode": {
    "name": "ipython",
    "version": 3
   },
   "file_extension": ".py",
   "mimetype": "text/x-python",
   "name": "python",
   "nbconvert_exporter": "python",
   "pygments_lexer": "ipython3",
   "version": "3.9.7"
  }
 },
 "nbformat": 4,
 "nbformat_minor": 5
}
