{
 "cells": [
  {
   "cell_type": "markdown",
   "id": "88b02dd1",
   "metadata": {},
   "source": [
    "## Grasshopper - Messi goals function\n",
    "###### `FUNDAMENTALS`"
   ]
  },
  {
   "cell_type": "markdown",
   "id": "96cb46ac",
   "metadata": {},
   "source": [
    "Messi is a soccer player with goals in three leagues:\n",
    "\n",
    "+ LaLiga\n",
    "+ Copa del Rey\n",
    "+ Champions\n",
    "\n",
    "Complete the function to return his total number of goals in all three leagues.\n",
    "\n",
    "> Note: the input will always be valid."
   ]
  },
  {
   "cell_type": "markdown",
   "id": "f1c439f9",
   "metadata": {},
   "source": [
    "### My solution"
   ]
  },
  {
   "cell_type": "code",
   "execution_count": 7,
   "id": "8ebdb4b4",
   "metadata": {},
   "outputs": [],
   "source": [
    "SELECT la_liga_goals + copa_del_rey_goals + champions_league_goals as res from goals;"
   ]
  },
  {
   "cell_type": "markdown",
   "id": "def67bde",
   "metadata": {},
   "source": [
    "### Sample Tests"
   ]
  },
  {
   "cell_type": "code",
   "execution_count": null,
   "id": "32cb8727",
   "metadata": {},
   "outputs": [],
   "source": [
    "DB[:goals].multi_insert [\n",
    "  {la_liga_goals: 0, copa_del_rey_goals: 0, champions_league_goals: 0},\n",
    "  {la_liga_goals: 43, copa_del_rey_goals: 10, champions_league_goals: 5}\n",
    "]\n",
    "\n",
    "compare_with expected do end"
   ]
  }
 ],
 "metadata": {
  "kernelspec": {
   "display_name": "Python 3 (ipykernel)",
   "language": "python",
   "name": "python3"
  },
  "language_info": {
   "codemirror_mode": {
    "name": "ipython",
    "version": 3
   },
   "file_extension": ".py",
   "mimetype": "text/x-python",
   "name": "python",
   "nbconvert_exporter": "python",
   "pygments_lexer": "ipython3",
   "version": "3.9.7"
  }
 },
 "nbformat": 4,
 "nbformat_minor": 5
}
