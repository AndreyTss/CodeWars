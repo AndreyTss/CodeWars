{
 "cells": [
  {
   "cell_type": "markdown",
   "id": "88b02dd1",
   "metadata": {},
   "source": [
    "##  Register for the Party (SQL for Beginners #3)\n",
    "###### `FUNDAMENTALS` `SQL` `DATABASES` `INFORMATION SYSTEMS` `DATA`"
   ]
  },
  {
   "cell_type": "markdown",
   "id": "96cb46ac",
   "metadata": {},
   "source": [
    "You received an invitation to an amazing party. Now you need to write an insert statement to add yourself to the table of participants.\n",
    "\n",
    "participants table schema\n",
    "\n",
    "+ name (string)\n",
    "+ age (integer)\n",
    "+ attending (boolean)\n",
    "\n",
    "### Notes\n",
    "+ Since alcohol will be served, you can only attend if you are 21 or older\n",
    "+ You can't attend if the attending column returns anything but true\n",
    "\n",
    "Your solution should use pure SQL. Ruby is used within the test cases just to validate your answer."
   ]
  },
  {
   "cell_type": "markdown",
   "id": "f1c439f9",
   "metadata": {},
   "source": [
    "### My solution"
   ]
  },
  {
   "cell_type": "code",
   "execution_count": 7,
   "id": "8ebdb4b4",
   "metadata": {},
   "outputs": [],
   "source": [
    "SELECT *\n",
    "FROM travelers\n",
    "WHERE country NOT IN ('Canada', 'Mexico', 'USA');"
   ]
  },
  {
   "cell_type": "markdown",
   "id": "def67bde",
   "metadata": {},
   "source": [
    "### Sample Tests"
   ]
  },
  {
   "cell_type": "code",
   "execution_count": null,
   "id": "32cb8727",
   "metadata": {},
   "outputs": [],
   "source": [
    "# Run SQL\n",
    "results = run_sql\n",
    "\n",
    "# Tests\n",
    "describe :travelers do\n",
    "   it \"should return 6 travelers\" do\n",
    "    expect(results.count).to eq 6\n",
    "   end\n",
    "end"
   ]
  }
 ],
 "metadata": {
  "kernelspec": {
   "display_name": "Python 3 (ipykernel)",
   "language": "python",
   "name": "python3"
  },
  "language_info": {
   "codemirror_mode": {
    "name": "ipython",
    "version": 3
   },
   "file_extension": ".py",
   "mimetype": "text/x-python",
   "name": "python",
   "nbconvert_exporter": "python",
   "pygments_lexer": "ipython3",
   "version": "3.9.7"
  }
 },
 "nbformat": 4,
 "nbformat_minor": 5
}
