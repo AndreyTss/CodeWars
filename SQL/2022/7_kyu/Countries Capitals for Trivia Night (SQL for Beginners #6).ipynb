{
 "cells": [
  {
   "cell_type": "markdown",
   "id": "88b02dd1",
   "metadata": {},
   "source": [
    "##  Countries Capitals for Trivia Night (SQL for Beginners #6)\n",
    "###### `FUNDAMENTALS` `SQL` `DATABASES` `INFORMATION SYSTEMS` `DATA`"
   ]
  },
  {
   "cell_type": "markdown",
   "id": "96cb46ac",
   "metadata": {},
   "source": [
    "Your friends told you that if you keep coding on your computer, you are going to hurt your eyes. They suggested that you go with them to trivia night at the local club.\n",
    "\n",
    "Once you arrive at the club, you realize the true motive behind your friends' invitation. They know that you are a computer nerd, and they want you to query the `countries` table and get the answers to the trivia questions.\n",
    "\n",
    "Schema of the `countries` table:\n",
    "\n",
    "+ country (String)\n",
    "+ capital (String)\n",
    "+ continent (String)\n",
    "\n",
    "The first question: from the African countries that start with the character E, get the names of their capitals ordered alphabetically.\n",
    "\n",
    "+ You should only give the names of the capitals. Any additional information is just noise\n",
    "+ If you get more than 3, you will be kicked out, for being too smart\n",
    "+ Also, this database is crowd-sourced, so sometimes Africa is written `Africa` and in other times `Afrika`.\n",
    "\n",
    "### Notes\n",
    "Your solution should use pure SQL. Ruby is used within the test cases just to validate your answer."
   ]
  },
  {
   "cell_type": "markdown",
   "id": "f1c439f9",
   "metadata": {},
   "source": [
    "### My solution"
   ]
  },
  {
   "cell_type": "code",
   "execution_count": 7,
   "id": "8ebdb4b4",
   "metadata": {},
   "outputs": [],
   "source": [
    "SELECT capital FROM countries\n",
    "WHERE continent IN ('Africa', 'Afrika') AND country LIKE 'E%'\n",
    "ORDER BY capital ASC\n",
    "OFFSET 0 ROWS FETCH NEXT 3 ROWS ONLY;"
   ]
  },
  {
   "cell_type": "markdown",
   "id": "def67bde",
   "metadata": {},
   "source": [
    "### Sample Tests"
   ]
  },
  {
   "cell_type": "code",
   "execution_count": null,
   "id": "32cb8727",
   "metadata": {},
   "outputs": [],
   "source": [
    "results = run_sql\n",
    "\n",
    "describe :countries do\n",
    "   it \"should return 3 capitals\" do\n",
    "    expect(results.count).to eq 3\n",
    "   end\n",
    "end"
   ]
  }
 ],
 "metadata": {
  "kernelspec": {
   "display_name": "Python 3 (ipykernel)",
   "language": "python",
   "name": "python3"
  },
  "language_info": {
   "codemirror_mode": {
    "name": "ipython",
    "version": 3
   },
   "file_extension": ".py",
   "mimetype": "text/x-python",
   "name": "python",
   "nbconvert_exporter": "python",
   "pygments_lexer": "ipython3",
   "version": "3.9.7"
  }
 },
 "nbformat": 4,
 "nbformat_minor": 5
}
