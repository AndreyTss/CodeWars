{
 "cells": [
  {
   "cell_type": "markdown",
   "id": "88b02dd1",
   "metadata": {},
   "source": [
    "##  SQL: Padding Encryption\n",
    "\n",
    "###### `FUNDAMENTALS` `SQL`"
   ]
  },
  {
   "cell_type": "markdown",
   "id": "96cb46ac",
   "metadata": {},
   "source": [
    "You are given a table with the following format:\n",
    "\n",
    "** encryption table schema **\n",
    "\n",
    "+ md5\n",
    "+ sha1\n",
    "+ sha256\n",
    "Problem is the table looks so unbalanced - the sha256 column contains much longer strings. You need to balance things up. Add '1' to the end of the md5 addresses as many times as you need to to make them the same length as those in the sha256 column. Add '0' to the beginning of the sha1 values to achieve the same result.\n",
    "\n",
    "Return as:\n",
    "\n",
    "** output table schema **\n",
    "\n",
    "+ md5\n",
    "+ sha1\n",
    "+ sha256\n"
   ]
  },
  {
   "cell_type": "markdown",
   "id": "f1c439f9",
   "metadata": {},
   "source": [
    "### My solution"
   ]
  },
  {
   "cell_type": "code",
   "execution_count": 7,
   "id": "8ebdb4b4",
   "metadata": {},
   "outputs": [],
   "source": [
    "SELECT \n",
    "  CONCAT(md5, REPEAT('1', LENGTH(sha256) - LENGTH(md5))) as md5,\n",
    "  CONCAT(REPEAT('0', LENGTH(sha256)- LENGTH(sha1)), sha1) as sha1,\n",
    "  sha256\n",
    "FROM\n",
    "  encryption"
   ]
  },
  {
   "cell_type": "markdown",
   "id": "def67bde",
   "metadata": {},
   "source": [
    "### Sample Tests"
   ]
  },
  {
   "cell_type": "code",
   "execution_count": null,
   "id": "32cb8727",
   "metadata": {},
   "outputs": [],
   "source": [
    "results = run_sql\n",
    "\n",
    "describe :query do\n",
    "  describe \"should contain keywords\" do\n",
    "    it \"should contain SELECT\" do\n",
    "      expect($sql.upcase).to include(\"SELECT\")\n",
    "    end\n",
    "\n",
    "    it \"should contain FROM\" do\n",
    "      expect($sql.upcase).to include(\"FROM\")\n",
    "    end\n",
    "  end"
   ]
  }
 ],
 "metadata": {
  "kernelspec": {
   "display_name": "Python 3 (ipykernel)",
   "language": "python",
   "name": "python3"
  },
  "language_info": {
   "codemirror_mode": {
    "name": "ipython",
    "version": 3
   },
   "file_extension": ".py",
   "mimetype": "text/x-python",
   "name": "python",
   "nbconvert_exporter": "python",
   "pygments_lexer": "ipython3",
   "version": "3.9.7"
  }
 },
 "nbformat": 4,
 "nbformat_minor": 5
}
