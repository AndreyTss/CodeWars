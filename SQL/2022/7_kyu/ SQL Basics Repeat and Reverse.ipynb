{
 "cells": [
  {
   "cell_type": "markdown",
   "id": "88b02dd1",
   "metadata": {},
   "source": [
    "##  SQL Basics: Repeat and Reverse\n",
    "\n",
    "###### `FUNDAMENTALS` `SQL` `DATABASES` `INFORMATION SYSTEMS` `DATA`"
   ]
  },
  {
   "cell_type": "markdown",
   "id": "96cb46ac",
   "metadata": {},
   "source": [
    "Using our monsters table with the following schema:\n",
    "\n",
    "monsters table schema\n",
    "\n",
    "+ id\n",
    "+ name\n",
    "+ legs\n",
    "+ arms\n",
    "+ characteristics\n",
    "\n",
    "return the following table:\n",
    "\n",
    "** output schema**\n",
    "\n",
    "+ name\n",
    "+ characteristics\n",
    "\n",
    "Where the name is the original string repeated three times (do not add any spaces), and the characteristics are the original strings in reverse (e.g. 'abc, def, ghi' becomes 'ihg ,fed ,cba')."
   ]
  },
  {
   "cell_type": "markdown",
   "id": "f1c439f9",
   "metadata": {},
   "source": [
    "### My solution"
   ]
  },
  {
   "cell_type": "code",
   "execution_count": 7,
   "id": "8ebdb4b4",
   "metadata": {},
   "outputs": [],
   "source": [
    "SELECT\n",
    "  REPEAT(name, 3) as name,\n",
    "  REVERSE(characteristics) as characteristics\n",
    "FROM \n",
    "  monsters"
   ]
  },
  {
   "cell_type": "markdown",
   "id": "def67bde",
   "metadata": {},
   "source": [
    "### Sample Tests"
   ]
  },
  {
   "cell_type": "code",
   "execution_count": null,
   "id": "32cb8727",
   "metadata": {},
   "outputs": [],
   "source": [
    "results = run_sql\n",
    "\n",
    "describe :query do\n",
    "  describe \"should contain keywords\" do\n",
    "    it \"should contain SELECT\" do\n",
    "      expect($sql.upcase).to include(\"SELECT\")\n",
    "    end\n",
    "\n",
    "    it \"should contain FROM\" do\n",
    "      expect($sql.upcase).to include(\"FROM\")\n",
    "    end\n",
    "  end\n",
    "\n",
    "  describe :columns do\n",
    "    it \"should return 2 columns\" do\n",
    "      expect(results.first.keys.count).to eq 2\n",
    "    end\n",
    "    \n",
    "    it \"should return a name column\" do\n",
    "      expect(results.first.keys).to include(:name)\n",
    "    end\n",
    "\n",
    "    it \"should return a characteristics column\" do\n",
    "      expect(results.first.keys).to include(:characteristics)\n",
    "    end\n",
    "  end\n",
    "end\n",
    "  "
   ]
  }
 ],
 "metadata": {
  "kernelspec": {
   "display_name": "Python 3 (ipykernel)",
   "language": "python",
   "name": "python3"
  },
  "language_info": {
   "codemirror_mode": {
    "name": "ipython",
    "version": 3
   },
   "file_extension": ".py",
   "mimetype": "text/x-python",
   "name": "python",
   "nbconvert_exporter": "python",
   "pygments_lexer": "ipython3",
   "version": "3.9.7"
  }
 },
 "nbformat": 4,
 "nbformat_minor": 5
}
